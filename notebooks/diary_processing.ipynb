{
 "cells": [
  {
   "cell_type": "code",
   "execution_count": 1,
   "metadata": {},
   "outputs": [],
   "source": [
    "import os\n",
    "import datetime\n",
    "import functools\n",
    "from lxml import etree as et"
   ]
  },
  {
   "cell_type": "code",
   "execution_count": 2,
   "metadata": {},
   "outputs": [],
   "source": [
    "from helpers import helpers\n",
    "from helpers import boe\n",
    "from helpers import boe_diary_processing\n",
    "from helpers import boe_diary_entry_processing"
   ]
  },
  {
   "cell_type": "code",
   "execution_count": 3,
   "metadata": {},
   "outputs": [],
   "source": [
    "date = datetime.datetime(2020, 5, 7)\n",
    "base_dir = '../src/tests/mockup_data'"
   ]
  },
  {
   "cell_type": "markdown",
   "metadata": {},
   "source": [
    "# BOE diary summary processing\n",
    "\n",
    "    1. Retrieval, parse and entry extraction\n",
    "    2. Entry processing\n",
    "    3. Basic stats\n",
    "\n",
    "## 1. Retrieval, parse and entry extraction"
   ]
  },
  {
   "cell_type": "code",
   "execution_count": 4,
   "metadata": {},
   "outputs": [],
   "source": [
    "def date_2_output_path(date: datetime.datetime, base_dir: str) -> str:\n",
    "    '''Returns the local filesystem output location for the diary of the given date.'''\n",
    "\n",
    "    if not isinstance(base_dir, str): \n",
    "        raise TypeError(f'Expected a str and got a {type(base_dir)} for base_dir.')\n",
    "\n",
    "    if not isinstance(date, datetime.datetime):\n",
    "        raise TypeError(f'Expected datetime.datetime and got {type(date)}')\n",
    "\n",
    "    return os.path.join(base_dir,\n",
    "                     'diaries',\n",
    "                     f\"boe_diary_raw_{date.strftime('%d_%m_%Y')}.xml\")\n",
    "                        \n",
    "def entry_id_2_output_path (entry_id: str, base_dir: str) -> str:\n",
    "    '''Create local filesystem path for the diary entry output.'''\n",
    "\n",
    "    if not isinstance(base_dir, str): \n",
    "        raise TypeError(f'Expected a str and got a {type(base_dir)} for base_dir.')\n",
    "\n",
    "    if not boe.is_valid_diary_entry_id(entry_id):\n",
    "        raise ValueError(f\"'{entry_id}' is not a valid entry id.\")\n",
    "\n",
    "    return os.path.join(base_dir,\n",
    "                     'diary_entries', \n",
    "                     f\"boe_diary_entry_raw_{entry_id}.xml\")"
   ]
  },
  {
   "cell_type": "code",
   "execution_count": 5,
   "metadata": {},
   "outputs": [
    {
     "data": {
      "text/plain": [
       "60"
      ]
     },
     "execution_count": 5,
     "metadata": {},
     "output_type": "execute_result"
    }
   ],
   "source": [
    "with open(date_2_output_path(date, base_dir), 'r') as f:\n",
    "    diary = f.read()\n",
    "    \n",
    "tree = et.fromstring(diary.encode())\n",
    "entries = list(helpers.pipe(tree,\n",
    "    boe_diary_processing.get_sections,\n",
    "    boe_diary_processing.get_departments_per_section,\n",
    "    boe_diary_processing.get_items_per_department,\n",
    "    boe_diary_processing.get_details_per_item,\n",
    "    functools.partial(map, lambda item: {**item, 'date':date.isoformat()})))\n",
    "len(entries)"
   ]
  },
  {
   "cell_type": "markdown",
   "metadata": {},
   "source": [
    "## 2. Entry processing"
   ]
  },
  {
   "cell_type": "code",
   "execution_count": 6,
   "metadata": {},
   "outputs": [
    {
     "data": {
      "text/plain": [
       "{'id': 'BOE-A-2020-4859',\n",
       " 'epigraph': 'Ley Concursal',\n",
       " 'section': '1',\n",
       " 'department': 'MINISTERIO DE LA PRESIDENCIA, RELACIONES CON LAS CORTES Y MEMORIA DEMOCRÁTICA',\n",
       " 'title': 'Real Decreto Legislativo 1/2020, de 5 de mayo, por el que se aprueba el texto refundido de la Ley Concursal.',\n",
       " 'pdf_url': '/boe/dias/2020/05/07/pdfs/BOE-A-2020-4859.pdf',\n",
       " 'xml_url': '/diario_boe/xml.php?id=BOE-A-2020-4859',\n",
       " 'htm_url': '/diario_boe/txt.php?id=BOE-A-2020-4859',\n",
       " 'date': '2020-05-07T00:00:00'}"
      ]
     },
     "execution_count": 6,
     "metadata": {},
     "output_type": "execute_result"
    }
   ],
   "source": [
    "entry = entries[0]\n",
    "entry"
   ]
  },
  {
   "cell_type": "code",
   "execution_count": 7,
   "metadata": {},
   "outputs": [],
   "source": [
    "with open(entry_id_2_output_path(entry['id'], base_dir), 'r') as f:\n",
    "    entry_content = f.read()\n",
    "    \n",
    "tree = et.fromstring(entry_content.encode())\n",
    "labels = boe_diary_entry_processing.get_labels_from_tree(tree)\n",
    "references = boe_diary_entry_processing.get_references_from_tree(tree)\n",
    "entry_type = boe_diary_entry_processing.get_type_from_tree(tree)"
   ]
  },
  {
   "cell_type": "markdown",
   "metadata": {},
   "source": [
    "**BOE diary entry labels**"
   ]
  },
  {
   "cell_type": "code",
   "execution_count": 15,
   "metadata": {},
   "outputs": [
    {
     "data": {
      "text/plain": [
       "44"
      ]
     },
     "execution_count": 15,
     "metadata": {},
     "output_type": "execute_result"
    }
   ],
   "source": [
    "len(labels)"
   ]
  },
  {
   "cell_type": "code",
   "execution_count": 14,
   "metadata": {},
   "outputs": [
    {
     "data": {
      "text/plain": [
       "'Cooperativas, Mercado de Valores, Herencias, Concurso de Acreedores, Estatuto de los Trabajadores, Entidades de crédito, Consorcio de Compensación de Seguros, Seguros, Agrupaciones de interés económico, Hipoteca, Pagos, Impuesto sobre Transmisiones Patrimoniales y Actos Jurídicos Documentados, Contratos de las Administraciones Públicas, Juzgados de lo Mercantil, Código Civil, Administración concursal, Justicia Gratuita, Sistema tributario, Créditos, Derecho Civil, Consumidores y usuarios, Derecho Mercantil, Trabajo y empleo, Seguridad Social, Sistema financiero, Enjuiciamiento Civil, Procedimiento Laboral, Suspensión de pagos, Oficina judicial, Sociedades Anónimas, Derecho Administrativo, Impuesto sobre el Valor Añadido, Procedimiento concursal, Sociedades, Transportes y tráfico, Quiebra, Administración de Justicia, Sociedades de Garantía Recíproca, Sociedades de Responsabilidad Limitada, Navegación aérea, Fundaciones, Arbitraje, Contratos, Código de Comercio'"
      ]
     },
     "execution_count": 14,
     "metadata": {},
     "output_type": "execute_result"
    }
   ],
   "source": [
    "', '.join(labels)"
   ]
  },
  {
   "cell_type": "markdown",
   "metadata": {},
   "source": [
    "**BOE diary entry references**"
   ]
  },
  {
   "cell_type": "code",
   "execution_count": 9,
   "metadata": {},
   "outputs": [
    {
     "data": {
      "text/plain": [
       "({'referenced': 'BOE-A-2015-10566',\n",
       "  'type': 'DEROGA',\n",
       "  'type_code': '210',\n",
       "  'text': 'la disposición final 5 de la Ley 40/2015, de 1 de octubre',\n",
       "  'category': 'previous'},\n",
       " {'referenced': 'BOE-A-2015-8469',\n",
       "  'type': 'DEROGA',\n",
       "  'type_code': '210',\n",
       "  'text': 'el art. 1 y la disposición transitoria 1 de la Ley 25/2015, de 28 de julio',\n",
       "  'category': 'previous'},\n",
       " {'referenced': 'BOE-A-2015-7897',\n",
       "  'type': 'DEROGA',\n",
       "  'type_code': '210',\n",
       "  'text': 'la disposición final 5 de la Ley 20/2015, de 14 de julio',\n",
       "  'category': 'previous'},\n",
       " {'referenced': 'BOE-A-2015-6789',\n",
       "  'type': 'DEROGA',\n",
       "  'type_code': '210',\n",
       "  'text': 'la disposición final 5 de la Ley 11/2015, de 18 de junio',\n",
       "  'category': 'previous'},\n",
       " {'referenced': 'BOE-A-2015-5744',\n",
       "  'type': 'DEROGA',\n",
       "  'type_code': '210',\n",
       "  'text': 'la disposición final 5 de la Ley 9/2015, de 25 de mayo',\n",
       "  'category': 'previous'},\n",
       " {'referenced': 'BOE-A-2015-4607',\n",
       "  'type': 'DEROGA',\n",
       "  'type_code': '210',\n",
       "  'text': 'la disposición final 1 de la Ley 5/2015, de 27 de abril',\n",
       "  'category': 'previous'},\n",
       " {'referenced': 'BOE-A-2015-2109',\n",
       "  'type': 'DEROGA',\n",
       "  'type_code': '210',\n",
       "  'text': 'el art. 1, las disposiciones adicionales 1 a 3 y transitoria 1 del Real Decreto-ley 1/2015, de 27 de febrero',\n",
       "  'category': 'previous'},\n",
       " {'referenced': 'BOE-A-2014-9896',\n",
       "  'type': 'DEROGA',\n",
       "  'type_code': '210',\n",
       "  'text': 'el art. único de la Ley 17/2014, de 30 de septiembre',\n",
       "  'category': 'previous'},\n",
       " {'referenced': 'BOE-A-2014-9133',\n",
       "  'type': 'DEROGA',\n",
       "  'type_code': '210',\n",
       "  'text': 'el art. único del Real Decreto-ley 11/2014, de 5 de septiembre',\n",
       "  'category': 'previous'},\n",
       " {'referenced': 'BOE-A-2014-2485',\n",
       "  'type': 'DEROGA',\n",
       "  'type_code': '210',\n",
       "  'text': 'el art. único del Real Decreto-ley 4/2014, de 7 de marzo',\n",
       "  'category': 'previous'},\n",
       " {'referenced': 'BOE-A-2014-2219',\n",
       "  'type': 'DEROGA',\n",
       "  'type_code': '210',\n",
       "  'text': 'el art. 10 de la Ley 1/2014, de 28 de febrero',\n",
       "  'category': 'previous'},\n",
       " {'referenced': 'BOE-A-2013-13723',\n",
       "  'type': 'DEROGA',\n",
       "  'type_code': '210',\n",
       "  'text': 'la disposición final 7 de la Ley 26/2013, de 27 de diciembre',\n",
       "  'category': 'previous'},\n",
       " {'referenced': 'BOE-A-2013-10074',\n",
       "  'type': 'DEROGA',\n",
       "  'type_code': '210',\n",
       "  'text': 'los arts. 21, 31, 34.18 y la disposición transitoria de la Ley 14/2013, de 27 de septiembre',\n",
       "  'category': 'previous'},\n",
       " {'referenced': 'BOE-A-2013-8556',\n",
       "  'type': 'DEROGA',\n",
       "  'type_code': '210',\n",
       "  'text': 'el art. 10 del Real Decreto-ley 11/2013, de 2 de agosto',\n",
       "  'category': 'previous'},\n",
       " {'referenced': 'BOE-A-2012-14062',\n",
       "  'type': 'DEROGA',\n",
       "  'type_code': '210',\n",
       "  'text': 'la disposición final 6 de la Ley 9/2012, de 14 de noviembre',\n",
       "  'category': 'previous'},\n",
       " {'referenced': 'BOE-A-2011-8847',\n",
       "  'type': 'DEROGA',\n",
       "  'type_code': '210',\n",
       "  'text': 'la disposición final 3 de la Ley 11/2011, de 20 de mayo',\n",
       "  'category': 'previous'},\n",
       " {'referenced': 'BOE-A-2009-17493',\n",
       "  'type': 'DEROGA',\n",
       "  'type_code': '210',\n",
       "  'text': 'el art. 17 de la Ley 13/2009, de 3 de noviembre',\n",
       "  'category': 'previous'},\n",
       " {'referenced': 'BOE-A-2009-5311',\n",
       "  'type': 'DEROGA',\n",
       "  'type_code': '210',\n",
       "  'text': 'el capítulo III, arts. 6 a 12, las disposiciones adicionales 1 a 3 y transitorias 2 a 8 del Real Decreto-ley 3/2009, de 27 de marzo',\n",
       "  'category': 'previous'},\n",
       " {'referenced': 'BOE-A-2005-6562',\n",
       "  'type': 'DEROGA',\n",
       "  'type_code': '210',\n",
       "  'text': 'las disposiciones adicional 1 y final 3 de la Ley 6/2005, de 22 de abril',\n",
       "  'category': 'previous'},\n",
       " {'referenced': 'BOE-A-2005-4172',\n",
       "  'type': 'DEROGA',\n",
       "  'type_code': '210',\n",
       "  'text': 'la disposición adicional 3 del Real Decreto-ley 5/2005, de 11 de marzo',\n",
       "  'category': 'previous'},\n",
       " {'referenced': 'BOE-A-2004-18910',\n",
       "  'type': 'DEROGA',\n",
       "  'type_code': '210',\n",
       "  'text': 'la disposición derogatoria única.1.d) del Real Decreto Legislativo 7/2004, de 29 de octubre',\n",
       "  'category': 'previous'},\n",
       " {'referenced': 'BOE-A-2003-20695',\n",
       "  'type': 'DEROGA',\n",
       "  'type_code': '210',\n",
       "  'text': 'la disposición adicional 3 de la Ley 36/2003, de 11 de noviembre',\n",
       "  'category': 'previous'},\n",
       " {'referenced': 'BOE-A-2003-13813',\n",
       "  'type': 'DEROGA',\n",
       "  'type_code': '210',\n",
       "  'text': 'con los efectos indicados, determinados preceptos de la Ley 22/2003, de 9 de julio',\n",
       "  'category': 'previous'},\n",
       " {'referenced': 'BOE-A-2019-2364',\n",
       "  'type': 'DE CONFORMIDAD con',\n",
       "  'type_code': '440',\n",
       "  'text': 'la disposición final 3 de la Ley 1/2019, de 20 de febrero',\n",
       "  'category': 'previous'},\n",
       " {'referenced': 'DOUE-L-2015-81122',\n",
       "  'type': 'CITA',\n",
       "  'type_code': '330',\n",
       "  'text': 'Reglamento (UE) 2015/848, de 20 de mayo',\n",
       "  'category': 'previous'})"
      ]
     },
     "execution_count": 9,
     "metadata": {},
     "output_type": "execute_result"
    }
   ],
   "source": [
    "references"
   ]
  },
  {
   "cell_type": "markdown",
   "metadata": {},
   "source": [
    "**Entry type**"
   ]
  },
  {
   "cell_type": "code",
   "execution_count": 10,
   "metadata": {},
   "outputs": [
    {
     "data": {
      "text/plain": [
       "('Real Decreto Legislativo', '1310')"
      ]
     },
     "execution_count": 10,
     "metadata": {},
     "output_type": "execute_result"
    }
   ],
   "source": [
    "entry_type"
   ]
  }
 ],
 "metadata": {
  "kernelspec": {
   "display_name": "venv",
   "language": "python",
   "name": "venv"
  },
  "language_info": {
   "codemirror_mode": {
    "name": "ipython",
    "version": 3
   },
   "file_extension": ".py",
   "mimetype": "text/x-python",
   "name": "python",
   "nbconvert_exporter": "python",
   "pygments_lexer": "ipython3",
   "version": "3.7.5"
  }
 },
 "nbformat": 4,
 "nbformat_minor": 2
}
