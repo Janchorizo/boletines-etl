{
 "cells": [
  {
   "cell_type": "markdown",
   "id": "uniform-gospel",
   "metadata": {},
   "source": [
    "# BOExplorer\n",
    "### Diary entry processing\n",
    "\n",
    "The main information to be extracted for a diary entry is:\n",
    "- The references to other entries\n",
    "- Labels and least used keywords\n",
    "- The economic impact\n",
    "- Whether it belongs to a known category\n",
    "    1. 'Licitación'\n",
    "    2. 'Formalización de contrato'\n",
    "\n",
    "#### 1. Imports"
   ]
  },
  {
   "cell_type": "code",
   "execution_count": 1,
   "id": "assumed-hardwood",
   "metadata": {},
   "outputs": [],
   "source": [
    "import re\n",
    "import json\n",
    "import inspect\n",
    "import functools\n",
    "import collections\n",
    "import locale\n",
    "\n",
    "from lxml import etree as et\n",
    "\n",
    "from helpers import boe\n",
    "from helpers import helpers\n",
    "from helpers import boe_diary_entry_processing as diary_entry\n",
    "from helpers.helpers import pipe, partialmap # For code clarity"
   ]
  },
  {
   "cell_type": "code",
   "execution_count": 2,
   "id": "modified-threat",
   "metadata": {},
   "outputs": [
    {
     "data": {
      "text/plain": [
       "'LC_CTYPE=en_US.UTF-8;LC_NUMERIC=es_ES.UTF-8;LC_TIME=es_ES.UTF-8;LC_COLLATE=en_US.UTF-8;LC_MONETARY=es_ES.UTF-8;LC_MESSAGES=en_US.UTF-8;LC_PAPER=es_ES.UTF-8;LC_NAME=es_ES.UTF-8;LC_ADDRESS=es_ES.UTF-8;LC_TELEPHONE=es_ES.UTF-8;LC_MEASUREMENT=es_ES.UTF-8;LC_IDENTIFICATION=es_ES.UTF-8'"
      ]
     },
     "execution_count": 2,
     "metadata": {},
     "output_type": "execute_result"
    }
   ],
   "source": [
    "locale.setlocale(locale.LC_ALL,\"\")\n"
   ]
  },
  {
   "cell_type": "code",
   "execution_count": 3,
   "id": "reasonable-dietary",
   "metadata": {},
   "outputs": [
    {
     "data": {
      "text/plain": [
       "'92.938.472,00 €'"
      ]
     },
     "execution_count": 3,
     "metadata": {},
     "output_type": "execute_result"
    }
   ],
   "source": [
    "locale.currency(92938472, grouping=True)"
   ]
  },
  {
   "cell_type": "markdown",
   "id": "numerical-optics",
   "metadata": {},
   "source": [
    "#### 2. Sample data"
   ]
  },
  {
   "cell_type": "code",
   "execution_count": 4,
   "id": "changing-thompson",
   "metadata": {},
   "outputs": [],
   "source": [
    "sample_data_file = 'entries_30_01_2021.json'"
   ]
  },
  {
   "cell_type": "markdown",
   "id": "exterior-field",
   "metadata": {},
   "source": [
    "#### 3. Helper functions"
   ]
  },
  {
   "cell_type": "code",
   "execution_count": 5,
   "id": "nearby-dominican",
   "metadata": {},
   "outputs": [],
   "source": [
    "boe_sections = {\n",
    "    '1': 'disposiciones generales',\n",
    "    '2': 'autoridades y personal',\n",
    "    '2a': 'nombramientos situaciones e incidencias',\n",
    "    '2b': 'oposiciones y concursos',\n",
    "    '3': 'otras secciones',\n",
    "    '4': 'administración de justicia',\n",
    "    '5': 'anuncios',\n",
    "    '5a': 'licitaciones públicas y adjudicaciones',\n",
    "    '5b': 'otros anuncios particulares',\n",
    "    '5c': 'anuncios particulares',\n",
    "    't': 'tribunal constitucional'\n",
    "}"
   ]
  },
  {
   "cell_type": "code",
   "execution_count": 6,
   "id": "alike-render",
   "metadata": {},
   "outputs": [],
   "source": [
    "def get_stats(entries, key):\n",
    "    c = helpers.pipe(\n",
    "        entries,\n",
    "        partialmap(lambda x: x[key]),\n",
    "        collections.Counter\n",
    "    )\n",
    "    return c\n",
    "\n",
    "def print_overview(entries):\n",
    "    print('\\n', '-'*50, '\\n Count by section', '\\n', '-'*50)\n",
    "    helpers.pipe(\n",
    "        get_stats(entries, 'section'),\n",
    "        lambda x: x.items(),\n",
    "        partialmap(lambda x: (boe_sections[x[0].lower()], x[1])),\n",
    "        partialmap(lambda x: f' {x[0]}: {x[1]}'),\n",
    "        '\\n'.join,\n",
    "        print\n",
    "    )\n",
    "\n",
    "    print('\\n', '-'*50, '\\n Count by department', '\\n', '-'*50)\n",
    "    helpers.pipe(\n",
    "        entries,\n",
    "        functools.partial(filter, lambda x: x['section'] not in ('4',)),\n",
    "        functools.partial(get_stats, key='department'),\n",
    "        lambda x: x.items(),\n",
    "        partialmap(lambda x: f' {x[0]}: {x[1]}'),\n",
    "        '\\n'.join,\n",
    "        print\n",
    "    )"
   ]
  },
  {
   "cell_type": "markdown",
   "id": "shared-oxygen",
   "metadata": {},
   "source": [
    "#### 4. Imported processing functions\n",
    "\n",
    "! All processing functions in the `helpers/boe_diary_entry_processing.py` module start with 'get'."
   ]
  },
  {
   "cell_type": "code",
   "execution_count": 7,
   "id": "particular-timing",
   "metadata": {},
   "outputs": [
    {
     "name": "stdout",
     "output_type": "stream",
     "text": [
      "def get_cost_from_tree(tree):\n",
      "    '''\n",
      "    All evaluated costs appear in a `<dd/>` element after a `<dt/>` with a \n",
      "    _\"valor estimado\"_ or _\"oferta seleccionada\"_ text in it.\n",
      "    See notebook 'boe_diary_entry_processing' for further information.\n",
      "    '''\n",
      "    search = helpers.use_tree_for_search(tree)\n",
      "    cost = 0\n",
      "    \n",
      "    modality = search(boe.EntryXpath.modality)\n",
      "    if len(modality) != 1 or modality[0].text not in _supported_modalities:\n",
      "        return cost\n",
      "    \n",
      "    for dd in search('//dt/following-sibling::dd'):\n",
      "        ammounts = _money_regex.findall(dd.text)\n",
      "        preceding_texts = _preceding_regex.findall(dd.getprevious().text)\n",
      "\n",
      "        if len(ammounts) == 1 and len(preceding_texts) > 0:\n",
      "            cost = locale.atof(_amount_regex.match(dd.text)[0])\n",
      "            break\n",
      "    \n",
      "    return cost\n",
      "\n",
      "def get_entry_type_from_tree(tree):\n",
      "    tree_search = helpers.use_tree_for_search(tree)\n",
      "    title_node = tree_search(boe.EntryXpath.title)[0]\n",
      "    title = title_node.text\n",
      "    \n",
      "    type_ = EntryType('', '')\n",
      "    if title.lower().startswith('anuncio de licitación'):\n",
      "        type_ = EntryType('anuncio de licitación',\n",
      "                          'un anuncio de licitación')\n",
      "    elif title.lower().startswith('ley'):\n",
      "        type_ = EntryType('ley',\n",
      "                          'una ley')\n",
      "    elif title.lower().startswith('anuncio de formalización de contratos'):\n",
      "        type_ = EntryType('anuncio de formalización de contratos',\n",
      "                          'un anuncio de formalización de contratos')\n",
      "    elif 'resuelve' in title.lower() and 'convocatoria' in title.lower():\n",
      "        type_ = EntryType('resolución de convocatoria',\n",
      "                          'una resolución de convocatoria')\n",
      "    elif 'convocatoria' in title.lower():\n",
      "        type_ = EntryType('convocatoria',\n",
      "                          'una convocatoria')\n",
      "    elif 'jubilación' in title.lower():\n",
      "        type_ = EntryType('jubilación',\n",
      "                          'una jubilación')\n",
      "    elif 'cese' in title.lower():\n",
      "        type_ = EntryType('cese',\n",
      "                          'un cese')\n",
      "    elif 'nombra' in title.lower():\n",
      "        type_ = EntryType('nobramiento de cargo',\n",
      "                          'un nobramiento de cargo')\n",
      "    return type_\n",
      "\n",
      "def get_labels_from_tree(tree):\n",
      "    tree_search = helpers.use_tree_for_search(tree)\n",
      "    topics = tree_search(boe.EntryXpath.topics)\n",
      "    alerts = tree_search(boe.EntryXpath.alerts)\n",
      "    \n",
      "    labels = helpers.pipe(topics + alerts,\n",
      "        functools.partial(map, lambda x: x.xpath('text()')),\n",
      "        functools.partial(map, ''.join),\n",
      "        set,\n",
      "        tuple)\n",
      "    return labels\n",
      "\n",
      "def get_reference_details(node):\n",
      "    tree_search = helpers.use_tree_for_search(node)\n",
      "    reference_type = tree_search(boe.EntryXpath.reference_type)[0]\n",
      "    reference_text = tree_search(boe.EntryXpath.reference_text)[0]\n",
      "\n",
      "    details = {\n",
      "        'referenced': node.get(boe.EntryAttribute.reference_entry_id),\n",
      "        'type': reference_type.text,\n",
      "        'type_code': reference_type.get(boe.EntryAttribute.reference_type_code),\n",
      "        'text': reference_text.text\n",
      "    }\n",
      "    return details\n",
      "\n",
      "def get_references_from_tree(tree):\n",
      "    tree_search = helpers.use_tree_for_search(tree)\n",
      "    prev = tree_search(boe.EntryXpath.previous)\n",
      "    post = tree_search(boe.EntryXpath.posterior)\n",
      "    \n",
      "    prev_references = map(\n",
      "            lambda x: {**get_reference_details(x), **{'category': 'previous'}}, \n",
      "            prev)\n",
      "    post_references = map(\n",
      "            lambda x: {**get_reference_details(x), **{'category': 'posterior'}}, \n",
      "            post)\n",
      "    \n",
      "    return [*prev_references, *post_references]\n",
      "\n"
     ]
    }
   ],
   "source": [
    "helpers.pipe(\n",
    "    dir(diary_entry),\n",
    "    functools.partial(filter, lambda x: x.startswith('get_')),\n",
    "    partialmap(lambda x: diary_entry.__dict__[x]),\n",
    "    partialmap(inspect.getsource),\n",
    "    '\\n'.join,\n",
    "    print\n",
    ")"
   ]
  },
  {
   "cell_type": "markdown",
   "id": "racial-porter",
   "metadata": {},
   "source": [
    "#### 5. Execution"
   ]
  },
  {
   "cell_type": "code",
   "execution_count": 8,
   "id": "spanish-wisdom",
   "metadata": {},
   "outputs": [
    {
     "name": "stdout",
     "output_type": "stream",
     "text": [
      " Entry count : 441\n",
      "\n",
      " -------------------------------------------------- \n",
      " Count by section \n",
      " --------------------------------------------------\n",
      " disposiciones generales: 12\n",
      " nombramientos situaciones e incidencias: 5\n",
      " oposiciones y concursos: 3\n",
      " otras secciones: 14\n",
      " administración de justicia: 252\n",
      " licitaciones públicas y adjudicaciones: 11\n",
      " otros anuncios particulares: 134\n",
      " anuncios particulares: 10\n",
      "\n",
      " -------------------------------------------------- \n",
      " Count by department \n",
      " --------------------------------------------------\n",
      " MINISTERIO DE HACIENDA: 105\n",
      " MINISTERIO DEL INTERIOR: 3\n",
      " MINISTERIO DE LA PRESIDENCIA, RELACIONES CON LAS CORTES Y MEMORIA DEMOCRÁTICA: 2\n",
      " MINISTERIO PARA LA TRANSICIÓN ECOLÓGICA Y EL RETO DEMOGRÁFICO: 3\n",
      " MINISTERIO DE ASUNTOS ECONÓMICOS Y TRANSFORMACIÓN DIGITAL: 5\n",
      " BANCO DE ESPAÑA: 2\n",
      " COMUNITAT VALENCIANA: 1\n",
      " COMUNIDAD FORAL DE NAVARRA: 3\n",
      " CONSEJO GENERAL DEL PODER JUDICIAL: 2\n",
      " MINISTERIO DE JUSTICIA: 3\n",
      " JUNTA ELECTORAL CENTRAL: 1\n",
      " ADMINISTRACIÓN LOCAL: 14\n",
      " UNIVERSIDADES: 6\n",
      " MINISTERIO DE DEFENSA: 1\n",
      " MINISTERIO DE TRANSPORTES, MOVILIDAD Y AGENDA URBANA: 10\n",
      " MINISTERIO DE INDUSTRIA, COMERCIO Y TURISMO: 3\n",
      " MINISTERIO DE CIENCIA E INNOVACIÓN: 3\n",
      " MINISTERIO DE CONSUMO: 1\n",
      " MINISTERIO DE UNIVERSIDADES: 4\n",
      " COMUNIDAD AUTÓNOMA DEL PRINCIPADO DE ASTURIAS: 1\n",
      " COMUNIDAD DE CASTILLA Y LEÓN: 1\n",
      " CORTES GENERALES: 1\n",
      " MINISTERIO DE CULTURA Y DEPORTE: 1\n",
      " OTROS PODERES ADJUDICADORES: 1\n",
      " MINISTERIO DE AGRICULTURA, PESCA Y ALIMENTACIÓN: 1\n",
      " COMISIÓN NACIONAL DE LOS MERCADOS Y LA COMPETENCIA: 1\n",
      " ANUNCIOS PARTICULARES: 10\n"
     ]
    }
   ],
   "source": [
    "with open(sample_data_file, 'r') as f:\n",
    "    entries = json.load(f)\n",
    "\n",
    "print(f' Entry count : {len(entries)}')\n",
    "print_overview(entries)"
   ]
  },
  {
   "cell_type": "markdown",
   "id": "scenic-authority",
   "metadata": {},
   "source": [
    "**5.1 Diary entry content fetch and processing of:** id, epigraph, section id, epigraph, department, pdf url, xml url, htm url, labels and references"
   ]
  },
  {
   "cell_type": "code",
   "execution_count": 9,
   "id": "portuguese-strand",
   "metadata": {},
   "outputs": [],
   "source": [
    "diary_entry_trees = helpers.pipe(\n",
    "    entries,\n",
    "    partialmap(lambda x: x['xml_url']),\n",
    "    partialmap(lambda x: boe.file_url_for_resource(x)),\n",
    "    partialmap(lambda x: helpers.fetch_page(x)),\n",
    "    partialmap(helpers.tree_from_response),\n",
    "    tuple\n",
    ")"
   ]
  },
  {
   "cell_type": "code",
   "execution_count": 10,
   "id": "meaning-collar",
   "metadata": {},
   "outputs": [],
   "source": [
    "diary_entry_labels = tuple(map(diary_entry.get_labels_from_tree, diary_entry_trees))\n",
    "diary_entry_references = tuple(map(diary_entry.get_references_from_tree, diary_entry_trees))"
   ]
  },
  {
   "cell_type": "code",
   "execution_count": 11,
   "id": "complete-purse",
   "metadata": {},
   "outputs": [
    {
     "name": "stdout",
     "output_type": "stream",
     "text": [
      "{\n",
      "\"id\": \"BOE-A-2021-1353\",\n",
      "\"epigraph\": \"Organizaci\\u00f3n\",\n",
      "\"section\": \"1\",\n",
      "\"department\": \"COMUNITAT VALENCIANA\",\n",
      "\"title\": \"Ley 2/2020, de 2 de diciembre, de la Informaci\\u00f3n Geogr\\u00e1fica y del Institut Cartogr\\u00e0fic Valenci\\u00e0.\",\n",
      "\"pdf_url\": \"/boe/dias/2021/01/30/pdfs/BOE-A-2021-1353.pdf\",\n",
      "\"xml_url\": \"/diario_boe/xml.php?id=BOE-A-2021-1353\",\n",
      "\"htm_url\": \"/diario_boe/txt.php?id=BOE-A-2021-1353\"\n",
      "}\n",
      "Labels:  ('Cartografía', 'Organización de la Administración', 'Vivienda y urbanismo', 'Organización de las Comunidades Autónomas', 'Comunidad Valenciana', 'Geografía')\n",
      "References:  [{'referenced': 'BOE-A-1998-243', 'type': 'DEROGA', 'type_code': '210', 'text': 'la Ley 9/1997, de 9 de diciembre', 'category': 'previous'}, {'referenced': 'BOE-A-1982-17235', 'type': 'DE CONFORMIDAD con', 'type_code': '440', 'text': 'el Estatuto aprobado por Ley Orgánica 5/1982, de 1 de julio', 'category': 'previous'}]\n"
     ]
    }
   ],
   "source": [
    "print(json.dumps(entries[8], indent=0))\n",
    "print('Labels: ', diary_entry_labels[8])\n",
    "print('References: ', diary_entry_references[8])"
   ]
  },
  {
   "cell_type": "markdown",
   "id": "resident-macedonia",
   "metadata": {},
   "source": [
    "**5.2 Content-wise analysis to search for:** known categories and economic impact"
   ]
  },
  {
   "cell_type": "code",
   "execution_count": 12,
   "id": "eligible-sitting",
   "metadata": {},
   "outputs": [],
   "source": [
    "title_starts = (\n",
    "    'Anuncio de licitación',\n",
    "    'Anuncio de formalización de contratos',\n",
    "    'Anuncio de corrección de errores de la licitación',\n",
    "    'Real Decreto',\n",
    ")"
   ]
  },
  {
   "cell_type": "code",
   "execution_count": 13,
   "id": "modified-conspiracy",
   "metadata": {},
   "outputs": [],
   "source": [
    "titles = helpers.pipe(\n",
    "    entries,\n",
    "    partialmap(lambda x: x['title']),\n",
    "    tuple\n",
    ")\n",
    "#titles"
   ]
  },
  {
   "cell_type": "code",
   "execution_count": 14,
   "id": "continent-little",
   "metadata": {},
   "outputs": [
    {
     "name": "stdout",
     "output_type": "stream",
     "text": [
      "[5] Real Decreto 1/2021, de 12 de enero, por el que se modifican el Plan General de Contabilidad aprobado por el Real Decreto 1514/2007, de 16 de noviembre; el Plan General de Contabilidad de Pequeñas y Medianas Empresas aprobado por el Real Decreto 1515/2007, de 16 de noviembre; las Normas para la Formulación de Cuentas Anuales Consolidadas aprobadas por el Real Decreto 1159/2010, de 17 de septiembre; y las normas de adaptación del Plan General de Contabilidad a las entidades sin fines lucrativos aprobadas por el Real Decreto 1491/2011, de 24 de octubre.\n",
      "\n",
      "[6] Real Decreto 2/2021, de 12 de enero, por el que se aprueba el Reglamento de desarrollo de la Ley 22/2015, de 20 de julio, de Auditoría de Cuentas.\n",
      "\n",
      "[286] Anuncio de licitación de: Mesa del Senado. Objeto: Procedimiento abierto para la adjudicación del contrato de arrendamiento y mantenimiento de impresoras y equipos multifunción del Senado. Expediente: 3/2021.\n",
      "\n",
      "[287] Anuncio de formalización de contratos de: Delegación Especial de la Agencia Tributaria en Castilla y León. Objeto: Mantenimiento instalaciones dependencias de la AEAT en Burgos (con Aranda de Duero), Palencia (con Aguilar de Campoo) y Soria. Expediente: 20A80085900.\n",
      "\n",
      "[288] Anuncio de corrección de errores de la licitación de: División Económica y Técnica (Cuerpo Nacional de Policía). Objeto: Adquisición de pienso compuesto para la alimentación de los équidos de las Unidades Especiales de Caballería de la Policía Nacional dependientes de la Comisaría General de Seguridad Ciudadana, Jefatura Superior de policía de Madrid y Jefatura Superior de Policía de Andalucía Occidental, para los años 2021 y2022. Expediente: Z21SC003/010.\n",
      "\n",
      "[289] Anuncio de licitación de: ADIF - Presidencia. Objeto: Servicio de limpieza de los edificios administrativos de Adif en Madrid. Expediente: 2.20/08108.0284.\n",
      "\n",
      "[290] Anuncio de formalización de contratos de: Comité Ejecutivo de la Mancomunidad de los Canales del Taibilla. Objeto: Contrato de servicio para la realización de las evaluaciones de riesgos laborales de almenaras, arquetas de contadores y maniobra de las infraestructuras hidráulicas, no evaluadas anteriormente de las zonas de explotación de la MCT (Varios). Expediente: V-10/19-09.\n",
      "\n",
      "[291] Anuncio de formalización de contratos de: Dirección General de Bellas Artes. Objeto: Obras de emergencia en las Murallas de Zamora, tramo de la Puerta de San Martín y Calle de la Vega. Expediente: 2020C1AJ0204.\n",
      "\n",
      "[292] Anuncio de formalización de contratos de: Instituto Nacional de Estadística INE. Objeto: Servicio de apoyo técnico cualificado al Gabinete de Presidencia del INE en materia de comunicación. Expediente: 2020N0016001 .\n",
      "\n",
      "[293] Anuncio de formalización de contratos de: Instituto Nacional de Estadística INE. Objeto: Recogida de datos de la Encuesta de Características Esenciales de la Población y las Viviendas (ECEPOV). Expediente: 2020N0059003.\n",
      "\n",
      "[294] Anuncio de formalización de contratos de: Dirección General de la Entidad Pública Empresarial RED.ES. Objeto: Suministro para el desarrollo de la iniciativa Smart Destination Plasencia. Expediente: 091/19-SP.\n",
      "\n",
      "[295] Anuncio de licitación de: Presidencia de la Agencia Estatal Consejo Superior de Investigaciones Científicas, M.P. Objeto: Servicio de acciones formativas on line destinado a la Agencia Estatal Consejo Superior de Investigaciones Científicas, M.P. Expediente: LOT34/21.\n",
      "\n",
      "[296] Anuncio de licitación de: Subdirección de Compras de la Sociedad Estatal Correos y Telégrafos, S.A. Objeto: Adquisición de material de oficina no inventariable para la S.E Correos y Telégrafos, S.A., S.M.E. Expediente: IM210003.\n",
      "\n"
     ]
    }
   ],
   "source": [
    "interesting_idxs = helpers.pipe(\n",
    "    titles,\n",
    "    partialmap(lambda title: map(lambda start: title.startswith(start), title_starts)),\n",
    "    partialmap(any),\n",
    "    enumerate,\n",
    "    functools.partial(filter, lambda x: x[1]),\n",
    "    partialmap(lambda x: x[0]),\n",
    "    tuple\n",
    ")\n",
    "\n",
    "helpers.pipe(\n",
    "    interesting_idxs,\n",
    "    partialmap(lambda idx: f\"[{idx}] {entries[idx]['title']}\\n\"),\n",
    "    '\\n'.join,\n",
    "    print\n",
    ")"
   ]
  },
  {
   "cell_type": "code",
   "execution_count": 15,
   "id": "interesting-country",
   "metadata": {},
   "outputs": [
    {
     "data": {
      "text/plain": [
       "Counter({'': 430, 'Licitación': 4, 'Formalización contrato': 6, 'Otros': 1})"
      ]
     },
     "execution_count": 15,
     "metadata": {},
     "output_type": "execute_result"
    }
   ],
   "source": [
    "helpers.pipe(\n",
    "    diary_entry_trees,\n",
    "    partialmap(helpers.use_tree_for_search),\n",
    "    partialmap(lambda f: f(boe.EntryXpath.modality)),\n",
    "    partialmap(lambda x: x[0].get('codigo') if len(x) == 1 else ''),\n",
    "    partialmap(lambda x: boe.code_to_modality_name[x] if x != '' else ''),\n",
    "    collections.Counter\n",
    ")"
   ]
  },
  {
   "cell_type": "code",
   "execution_count": 16,
   "id": "pediatric-robin",
   "metadata": {},
   "outputs": [
    {
     "data": {
      "text/plain": [
       "Counter({'None': 2, 'Licitación': 4, 'Formalización contrato': 6, 'Otros': 1})"
      ]
     },
     "execution_count": 16,
     "metadata": {},
     "output_type": "execute_result"
    }
   ],
   "source": [
    "helpers.pipe(\n",
    "    interesting_idxs,\n",
    "    partialmap(lambda idx: diary_entry_trees[idx]),\n",
    "    partialmap(helpers.use_tree_for_search),\n",
    "    partialmap(lambda f: f(boe.EntryXpath.modality)),\n",
    "    partialmap(lambda x: x[0].get('codigo') if len(x) == 1 else ''),\n",
    "    partialmap(lambda x: boe.code_to_modality_name[x].__str__() if x != '' else 'None'),\n",
    "    collections.Counter\n",
    ")"
   ]
  },
  {
   "cell_type": "markdown",
   "id": "naked-variance",
   "metadata": {},
   "source": [
    "Al parecer, todos los anuncios de licitación y formalización de contratos tienen el mismo comienzo del título. Todos ellos tienen un elemento de _procedimiento_. Hay que comprobar si otros elementos también tienen un elemento de _procedimiento_.\n",
    "\n",
    "\n",
    "Tipos de documento donde aparece una cuantía de dinero, y partes del documento donde se recogía la cuantía:\n",
    "\n",
    "- Formalización de contrato (Ministerio de asuntos económicos y transformación digital\n",
    "  ```html\n",
    "  <dl>\n",
    "    <dt>13.1.1) Valor de la oferta seleccionada: </dt>\n",
    "    <dd>1.746.360,00 euros.</dd>\n",
    "  </dl>\n",
    "  ```\n",
    "- Anuncio de licitación\n",
    "  ```html\n",
    "  <dt>8. Valor estimado:</dt>\n",
    "    <dd>580.800,00 euros.</dd>\n",
    "  <dt>9. Informaci&#243;n sobre las variantes:</dt>\n",
    "  ```\n",
    "  Había otros lugares donde aparecían cantidades monetarias mencionadas\n",
    "  ```html\n",
    "  <dd>\n",
    "      Cifra anual de negocio (el volumen anual de negocios de cualquiera de los tres &#250;ltimos a&#241;os \n",
    "      concluidos deber&#225; ser, al menos, una vez y media el valor anual medio del contrato\n",
    "      (180.000,00 euros, IVA no incluido)).\n",
    "  </dd>\n",
    "  <dt>11.5) Situaci&#243;n t&#233;cnica y profesional:</dt>\n",
    "  <dd>\n",
    "      Trabajos realizados (la facturaci&#243;n anual acumulada por la realizaci&#243;n de estos trabajos en \n",
    "      cualquiera de los tres &#250;ltimos a&#241;os concluidos deber&#225; ser, al menos, igual al 70% del\n",
    "      valor anual medio del contrato (84.000,00 euros, IVA no incluido)).\n",
    "  </dd>\n",
    "  ```\n",
    "- Anuncio de formalización de contrato (Ministerio de Hacienda)\n",
    "  ```html\n",
    "  <dl>\n",
    "      <dt>13.1) Valor de la oferta seleccionada: </dt>\n",
    "      <dd>19.052,76 euros.</dd>\n",
    "      <dt>13.2) Valor de la oferta de mayor coste: </dt>\n",
    "      <dd>24.047,00 euros.</dd>\n",
    "      <dt>13.3) Valor de la oferta de menor coste: </dt>\n",
    "      <dd>19.052,76 euros.</dd>\n",
    "  </dl>\n",
    "  ```\n",
    "- Anuncio de licitación (ADIF)\n",
    "  ```html\n",
    "  <dt>8. Valor estimado:</dt>\n",
    "  <dd>4.564.597,84 euros.</dd>\n",
    "  ```\n",
    "- Anuncio de formalización de contratos\n",
    "  ```html\n",
    "  <dl>\n",
    "    <dt>13.1) Valor de la oferta seleccionada: </dt>\n",
    "    <dd>346.679,00 euros.</dd>\n",
    "  </dl>\n",
    "  ```\n",
    "- Anuncio de la formalización de contrato (obra de emergencia)\n",
    "  ```html\n",
    "  <dd>\n",
    "    <dl>\n",
    "      <dt>13.1) Valor de la oferta seleccionada: </dt>\n",
    "      <dd>12.956,51 euros.</dd>\n",
    "    </dl>\n",
    "  </dd>\n",
    "  ```\n",
    "- Anuncio de formalización de contratos (Instituto Nacional de Estadística)\n",
    "  ```html\n",
    "  <dd>\n",
    "    <dl>\n",
    "      <dt>13.1) Valor de la oferta seleccionada: </dt>\n",
    "      <dd>81.520,67 euros.</dd>\n",
    "      <dt>13.2) Valor de la oferta de mayor coste: </dt>\n",
    "      <dd>110.677,68 euros.</dd>\n",
    "      <dt>13.3) Valor de la oferta de menor coste: </dt>\n",
    "      <dd>0,00 euros.</dd>\n",
    "    </dl>\n",
    "  </dd>\n",
    "  ```\n",
    "- Anuncio de formalización de contratos (Instituto Nacional de Estadística)\n",
    "  ```html\n",
    "  <dl>\n",
    "      <dt>13.1.1) Valor de la oferta seleccionada: </dt>\n",
    "      <dd>1.746.360,00 euros.</dd>\n",
    "  </dl>\n",
    "  ```\n",
    "- Anuncio de formalización de contratos (Dirección General  de la Entidad Pública Empresarial RED.ES\n",
    "  ```html\n",
    "  <dl>\n",
    "    <dt>13.1) Valor de la oferta seleccionada: </dt>\n",
    "    <dd>373.951,34 euros.</dd>\n",
    "  </dl>\n",
    "  ```\n",
    "- Anuncio de licitaciòn de: Presidencia de la Agencia Estatal Consejo Superior de Investigaciones Científicas\n",
    "  Sin cuantía económica asociada, tenía el procedimiento abierto:\n",
    "  ```html\n",
    "  <procedimiento codigo=\"1\">Abierto</procedimiento>\n",
    "  ```\n",
    "- Anuncio de licitación de: Subdirección de Compras de la Sociedad Estatal Correos y Telégrafos\n",
    "  Con cuantía económica asociada, y\n",
    "  ```html\n",
    "  <procedimiento codigo=\"4\">Negociado con publicidad</procedimiento>\n",
    "  ```\n",
    "  ```html\n",
    "  <dt>8. Valor estimado:</dt>\n",
    "  <dd>1.103.928,85 euros.</dd>\n",
    "  ```"
   ]
  },
  {
   "cell_type": "markdown",
   "id": "stone-chorus",
   "metadata": {},
   "source": [
    "#### Extracting the selected cost for licitations and contracts\n",
    "_Only done for 'Licitación' and 'Formalización contrato' modalities_\n",
    "\n",
    "All evaluated costs appear in a `<dd/>` element after a `<dt/>` with a _\"valor estimado\"_ or _\"oferta seleccionada\"_ text in it."
   ]
  },
  {
   "cell_type": "code",
   "execution_count": 17,
   "id": "naked-techno",
   "metadata": {},
   "outputs": [
    {
     "data": {
      "text/plain": [
       "Counter({0: 432,\n",
       "         580800.0: 1,\n",
       "         19052.76: 1,\n",
       "         4564.0: 1,\n",
       "         346679.0: 1,\n",
       "         12956.51: 1,\n",
       "         81520.67: 1,\n",
       "         1746.0: 1,\n",
       "         373951.34: 1,\n",
       "         1103.0: 1})"
      ]
     },
     "execution_count": 17,
     "metadata": {},
     "output_type": "execute_result"
    }
   ],
   "source": [
    "costs = helpers.pipe(\n",
    "    diary_entry_trees,\n",
    "    partialmap(diary_entry.get_cost_from_tree),\n",
    "    collections.Counter\n",
    ")\n",
    "costs"
   ]
  },
  {
   "cell_type": "markdown",
   "id": "supposed-boxing",
   "metadata": {},
   "source": [
    "#### Extracting the entry type and description based on the title."
   ]
  },
  {
   "cell_type": "code",
   "execution_count": 18,
   "id": "opposite-chile",
   "metadata": {},
   "outputs": [
    {
     "data": {
      "text/plain": [
       "Counter({EntryType(type='', type_desc=''): 424,\n",
       "         EntryType(type='ley', type_desc='una ley'): 4,\n",
       "         EntryType(type='jubilación', type_desc='una jubilación'): 1,\n",
       "         EntryType(type='convocatoria', type_desc='una convocatoria'): 2,\n",
       "         EntryType(type='anuncio de licitación', type_desc='un anuncio de licitación'): 4,\n",
       "         EntryType(type='anuncio de formalización de contratos', type_desc='un anuncio de formalización de contratos'): 6})"
      ]
     },
     "execution_count": 18,
     "metadata": {},
     "output_type": "execute_result"
    }
   ],
   "source": [
    "types = helpers.pipe(\n",
    "    diary_entry_trees,\n",
    "    partialmap(diary_entry.get_entry_type_from_tree),\n",
    "    collections.Counter\n",
    ")\n",
    "types"
   ]
  }
 ],
 "metadata": {
  "kernelspec": {
   "display_name": "Python 3",
   "language": "python",
   "name": "python3"
  },
  "language_info": {
   "codemirror_mode": {
    "name": "ipython",
    "version": 3
   },
   "file_extension": ".py",
   "mimetype": "text/x-python",
   "name": "python",
   "nbconvert_exporter": "python",
   "pygments_lexer": "ipython3",
   "version": "3.8.5"
  }
 },
 "nbformat": 4,
 "nbformat_minor": 5
}
