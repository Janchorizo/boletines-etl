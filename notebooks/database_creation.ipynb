{
 "cells": [
  {
   "cell_type": "code",
   "execution_count": 9,
   "metadata": {},
   "outputs": [],
   "source": [
    "from typing import Callable, Set, Generator, Iterable, Dict\n",
    "import datetime\n",
    "import collections\n",
    "import functools\n",
    "\n",
    "import pymysql"
   ]
  },
  {
   "cell_type": "code",
   "execution_count": 2,
   "metadata": {},
   "outputs": [],
   "source": [
    "def pipe(initial_value: any, *args:Callable) -> any:\n",
    "    '''Chaining functions in order of execution.'''\n",
    "    \n",
    "    chain_function = lambda prev_result, func: func(prev_result)\n",
    "    \n",
    "    return functools.reduce(chain_function, args, initial_value)"
   ]
  },
  {
   "cell_type": "code",
   "execution_count": 3,
   "metadata": {},
   "outputs": [],
   "source": [
    "db_host = 'localhost'\n",
    "db_database = 'boe'\n",
    "db_user = 'root'\n",
    "db_password = 'pass'"
   ]
  },
  {
   "cell_type": "markdown",
   "metadata": {},
   "source": [
    "# Boe database initial setup\n",
    "\n",
    "Supported character sets and collations in __MariaDB__:\n",
    "https://mariadb.com/kb/en/supported-character-sets-and-collations/"
   ]
  },
  {
   "cell_type": "markdown",
   "metadata": {},
   "source": [
    "### PyMysql utilities"
   ]
  },
  {
   "cell_type": "code",
   "execution_count": 4,
   "metadata": {},
   "outputs": [],
   "source": [
    "def object_exists(cursor: pymysql.cursors.Cursor, query: str, object_name: str) -> bool:\n",
    "    '''Check if an SQL object is present in the server.'''\n",
    "    \n",
    "    cursor.execute(query)\n",
    "    objects = cursor.fetchall()\n",
    "    exists = pipe(objects,\n",
    "        functools.partial(map, lambda x: x[0]),\n",
    "        lambda x: object_name in x)\n",
    "    \n",
    "    return exists\n",
    "\n",
    "def database_exists(cursor: pymysql.cursors.Cursor, db_name:str) -> bool:\n",
    "    '''Check if the database is present in the SQL sever.'''\n",
    "    \n",
    "    return object_exists(cursor, 'show databases', db_name)\n",
    "\n",
    "def table_exists(cursor: pymysql.cursors.Cursor, table_name:str) -> bool:\n",
    "    '''Check if the table is present in the given database.'''\n",
    "    \n",
    "    return object_exists(cursor, 'show tables', table_name)\n",
    "\n",
    "def create_database(db_host: str, db_user: str, db_password: str, db_database: str, force=False) -> None:\n",
    "    '''Create the given database.'''\n",
    "    \n",
    "    connection = pymysql.connect(host=db_host,\n",
    "                                 user=db_user,\n",
    "                                 password=db_password)\n",
    "\n",
    "    with connection:\n",
    "        cursor = connection.cursor()\n",
    "        if not database_exists(cursor, db_database):\n",
    "            cursor.execute(f'create database {db_database}')\n",
    "        elif force is True:\n",
    "            cursor.execute(f'drop database {db_database}')\n",
    "            cursor.execute(f'create database {db_database}')\n",
    "            \n",
    "def create_tables(db_host: str, db_user: str, db_password: str, db_database: str, *tables) -> None:\n",
    "    '''Create the given tables provided as name, query arguments.\n",
    "    >>> create_tables(db_host, \n",
    "              db_user, \n",
    "              db_password,\n",
    "              db_database,\n",
    "              'boe_diary_section',\n",
    "              boe_diary_section_table,\n",
    "              'boe_diary_entry',\n",
    "              boe_diary_entry_table)\n",
    "    '''\n",
    "    \n",
    "    connection = pymysql.connect(host=db_host,\n",
    "                                 user=db_user,\n",
    "                                 database=db_database,\n",
    "                                 password=db_password)\n",
    "\n",
    "    with connection:\n",
    "        cursor = connection.cursor()\n",
    "        for table_name, table_query in zip(tables[::2], tables[1::2]):\n",
    "            if not table_exists(cursor, table_name):\n",
    "                cursor.execute(table_query)"
   ]
  },
  {
   "cell_type": "markdown",
   "metadata": {},
   "source": [
    "### Database setup utilities"
   ]
  },
  {
   "cell_type": "code",
   "execution_count": 5,
   "metadata": {},
   "outputs": [],
   "source": [
    "boe_sections = {\n",
    "    '1': 'disposiciones generales',\n",
    "    '2': 'autoridades y personal',\n",
    "    '2a': 'nombramientos situaciones e incidencias',\n",
    "    '2b': 'oposiciones y concursos',\n",
    "    '3': 'otras secciones',\n",
    "    '4': 'administración de justicia',\n",
    "    '5': 'anuncios',\n",
    "    '5a': 'licitaciones públicas y adjudicaciones',\n",
    "    '5b': 'otros anuncios particulares',\n",
    "    '5c': 'anuncios particulares',\n",
    "    't': 'tribunal constitucional'\n",
    "}\n",
    "\n",
    "boe_diary_section_table = '''\n",
    "CREATE TABLE boe_diary_section (\n",
    "    id VARCHAR(2) NOT NULL,\n",
    "    name VARCHAR(60) NOT NULL,\n",
    "    PRIMARY KEY (id)\n",
    ") character set=utf8;\n",
    "'''\n",
    "\n",
    "boe_diary_entry_table = '''\n",
    "CREATE TABLE boe_diary_entry (\n",
    "    id VARCHAR(20) NOT NULL,\n",
    "    date DATE,\n",
    "    title VARCHAR(1000),\n",
    "    section VARCHAR(2) NOT NULL,\n",
    "    department VARCHAR(500),\n",
    "    epigraph VARCHAR(1000),\n",
    "    pdf_url VARCHAR(240),\n",
    "    xml_url VARCHAR(240),\n",
    "    htm_url VARCHAR(240),\n",
    "    has_economic_impact VARCHAR(20),\n",
    "    PRIMARY KEY (id),\n",
    "    FOREIGN KEY (section)\n",
    "        REFERENCES boe_diary_section (id)\n",
    "        ON DELETE CASCADE\n",
    ") character set=utf8;\n",
    "'''"
   ]
  },
  {
   "cell_type": "code",
   "execution_count": 6,
   "metadata": {},
   "outputs": [],
   "source": [
    "def insert_sections(db_host: str, db_user: str, db_password:str, db_database: str, sections: Dict) -> None:\n",
    "    '''Insert the information for the different BOE sections.'''\n",
    "    \n",
    "    connection = pymysql.connect(host=db_host,\n",
    "                                 user=db_user,\n",
    "                                 database=db_database,\n",
    "                                 password=db_password)\n",
    "\n",
    "    with connection:\n",
    "        cursor = connection.cursor()\n",
    "        if table_exists(cursor, 'boe_diary_section'):\n",
    "            for section_id, section_name in boe_sections.items():\n",
    "                query = f\"INSERT INTO boe_diary_section VALUES ('{section_id}', '{section_name}')\"\n",
    "                cursor.execute(query)"
   ]
  },
  {
   "cell_type": "markdown",
   "metadata": {},
   "source": [
    "### Database setup execution"
   ]
  },
  {
   "cell_type": "code",
   "execution_count": 8,
   "metadata": {},
   "outputs": [],
   "source": [
    "create_database(db_host, db_user, db_password, db_database)\n",
    "\n",
    "create_tables(db_host, \n",
    "              db_user, \n",
    "              db_password,\n",
    "              db_database,\n",
    "              'boe_diary_section',\n",
    "              boe_diary_section_table,\n",
    "              'boe_diary_entry',\n",
    "              boe_diary_entry_table)\n",
    "\n",
    "insert_sections(db_host, db_user, db_password, db_database, boe_sections)"
   ]
  }
 ],
 "metadata": {
  "kernelspec": {
   "display_name": "venv",
   "language": "python",
   "name": "venv"
  },
  "language_info": {
   "codemirror_mode": {
    "name": "ipython",
    "version": 3
   },
   "file_extension": ".py",
   "mimetype": "text/x-python",
   "name": "python",
   "nbconvert_exporter": "python",
   "pygments_lexer": "ipython3",
   "version": "3.6.9"
  }
 },
 "nbformat": 4,
 "nbformat_minor": 2
}
