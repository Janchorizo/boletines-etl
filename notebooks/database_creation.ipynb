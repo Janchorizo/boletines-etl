{
 "cells": [
  {
   "cell_type": "code",
   "execution_count": 6,
   "metadata": {},
   "outputs": [],
   "source": [
    "from typing import Callable, Set, Generator, Iterable, Dict\n",
    "import datetime\n",
    "import collections\n",
    "import functools\n",
    "\n",
    "import pymysql\n",
    "import helpers"
   ]
  },
  {
   "cell_type": "code",
   "execution_count": 7,
   "metadata": {},
   "outputs": [],
   "source": [
    "db_host = 'localhost'\n",
    "db_database = 'boe'\n",
    "db_user = 'root'\n",
    "db_password = 'pass'\n",
    "\n",
    "use_db_settings = lambda func, *args: func(db_host, db_user, db_password, db_database, *args)"
   ]
  },
  {
   "cell_type": "markdown",
   "metadata": {},
   "source": [
    "# Boe database initial setup\n",
    "\n",
    "Supported character sets and collations in __MariaDB__:\n",
    "https://mariadb.com/kb/en/supported-character-sets-and-collations/"
   ]
  },
  {
   "cell_type": "markdown",
   "metadata": {},
   "source": [
    "### PyMysql utilities"
   ]
  },
  {
   "cell_type": "code",
   "execution_count": 8,
   "metadata": {},
   "outputs": [],
   "source": [
    "def object_exists(cursor: pymysql.cursors.Cursor, query: str, object_name: str) -> bool:\n",
    "    '''Check if an SQL object is present in the server.'''\n",
    "    \n",
    "    cursor.execute(query)\n",
    "    objects = cursor.fetchall()\n",
    "    exists = helpers.pipe(objects,\n",
    "        functools.partial(map, lambda x: x[0]),\n",
    "        lambda x: object_name in x)\n",
    "    \n",
    "    return exists\n",
    "\n",
    "def database_exists(cursor: pymysql.cursors.Cursor, db_name:str) -> bool:\n",
    "    '''Check if the database is present in the SQL sever.'''\n",
    "    \n",
    "    return object_exists(cursor, 'show databases', db_name)\n",
    "\n",
    "def table_exists(cursor: pymysql.cursors.Cursor, table_name:str) -> bool:\n",
    "    '''Check if the table is present in the given database.'''\n",
    "    \n",
    "    return object_exists(cursor, 'show tables', table_name)\n",
    "\n",
    "def create_database(db_host: str, db_user: str, db_password: str, db_database: str, force=False) -> None:\n",
    "    '''Create the given database.'''\n",
    "    \n",
    "    connection = pymysql.connect(host=db_host,\n",
    "                                 user=db_user,\n",
    "                                 password=db_password)\n",
    "\n",
    "    with connection:\n",
    "        cursor = connection.cursor()\n",
    "        if not database_exists(cursor, db_database):\n",
    "            cursor.execute(f'create database {db_database}')\n",
    "        elif force is True:\n",
    "            cursor.execute(f'drop database {db_database}')\n",
    "            cursor.execute(f'create database {db_database}')\n",
    "            \n",
    "def create_tables(use_db_settings: Callable, *tables) -> None:\n",
    "    '''Create the given tables provided as name, query arguments.\n",
    "    >>> create_tables(db_host, \n",
    "              db_user, \n",
    "              db_password,\n",
    "              db_database,\n",
    "              'boe_diary_section',\n",
    "              boe_diary_section_table,\n",
    "              'boe_diary_entry',\n",
    "              boe_diary_entry_table)\n",
    "    '''\n",
    "    \n",
    "    connection = use_db_settings(pymysql.connect)\n",
    "\n",
    "    with connection:\n",
    "        cursor = connection.cursor()\n",
    "        for table_name, table_query in zip(tables[::2], tables[1::2]):\n",
    "            if not table_exists(cursor, table_name):\n",
    "                cursor.execute(table_query)"
   ]
  },
  {
   "cell_type": "markdown",
   "metadata": {},
   "source": [
    "### Database setup utilities"
   ]
  },
  {
   "cell_type": "code",
   "execution_count": 20,
   "metadata": {},
   "outputs": [],
   "source": [
    "boe_sections = {\n",
    "    '1': 'disposiciones generales',\n",
    "    '2': 'autoridades y personal',\n",
    "    '2a': 'nombramientos situaciones e incidencias',\n",
    "    '2b': 'oposiciones y concursos',\n",
    "    '3': 'otras secciones',\n",
    "    '4': 'administración de justicia',\n",
    "    '5': 'anuncios',\n",
    "    '5a': 'licitaciones públicas y adjudicaciones',\n",
    "    '5b': 'otros anuncios particulares',\n",
    "    '5c': 'anuncios particulares',\n",
    "    't': 'tribunal constitucional'\n",
    "}\n",
    "\n",
    "boe_diary_section_table = '''\n",
    "CREATE TABLE boe_diary_section (\n",
    "    id VARCHAR(2) NOT NULL,\n",
    "    name VARCHAR(60) NOT NULL,\n",
    "    PRIMARY KEY (id)\n",
    ") character set=utf8;\n",
    "'''\n",
    "\n",
    "boe_diary_entry_label_table = '''\n",
    "CREATE TABLE boe_diary_entry_label (\n",
    "    name VARCHAR(500),\n",
    "    entry VARCHAR(20) NOT NULL,\n",
    "    FOREIGN KEY (entry)\n",
    "        REFERENCES boe_diary_entry (id)\n",
    "        ON DELETE CASCADE\n",
    ") character set=utf8;\n",
    "'''\n",
    "\n",
    "boe_diary_entry_references_table = '''\n",
    "CREATE TABLE boe_diary_entry_reference (\n",
    "    source VARCHAR(20) NOT NULL,\n",
    "    referenced VARCHAR(20) NOT NULL,\n",
    "    FOREIGN KEY (source)\n",
    "        REFERENCES boe_diary_entry (id)\n",
    "        ON DELETE CASCADE,\n",
    "    FOREIGN KEY (referenced)\n",
    "        REFERENCES boe_diary_entry (id)\n",
    "        ON DELETE CASCADE\n",
    ") character set=utf8;\n",
    "'''\n",
    "\n",
    "boe_diary_entry_table = '''\n",
    "CREATE TABLE boe_diary_entry (\n",
    "    id VARCHAR(20) NOT NULL,\n",
    "    date DATE,\n",
    "    title VARCHAR(1000),\n",
    "    section VARCHAR(2) NOT NULL,\n",
    "    department VARCHAR(500),\n",
    "    epigraph VARCHAR(1000),\n",
    "    pdf_url VARCHAR(240),\n",
    "    xml_url VARCHAR(240),\n",
    "    htm_url VARCHAR(240),\n",
    "    has_economic_impact VARCHAR(20),\n",
    "    PRIMARY KEY (id),\n",
    "    FOREIGN KEY (section)\n",
    "        REFERENCES boe_diary_section (id)\n",
    "        ON DELETE CASCADE\n",
    ") character set=utf8;\n",
    "'''"
   ]
  },
  {
   "cell_type": "code",
   "execution_count": 10,
   "metadata": {},
   "outputs": [],
   "source": [
    "def insert_sections(use_db_settings: Callable, sections: Dict) -> None:\n",
    "    '''Insert the information for the different BOE sections.'''\n",
    "    \n",
    "    connection = use_db_settings(pymysql.connect)\n",
    "\n",
    "    with connection:\n",
    "        cursor = connection.cursor()\n",
    "        if table_exists(cursor, 'boe_diary_section'):\n",
    "            for section_id, section_name in boe_sections.items():\n",
    "                query = f\"INSERT INTO boe_diary_section VALUES ('{section_id}', '{section_name}')\"\n",
    "                cursor.execute(query)"
   ]
  },
  {
   "cell_type": "markdown",
   "metadata": {},
   "source": [
    "### Database setup execution"
   ]
  },
  {
   "cell_type": "code",
   "execution_count": 5,
   "metadata": {},
   "outputs": [
    {
     "ename": "NameError",
     "evalue": "name 'create_database' is not defined",
     "output_type": "error",
     "traceback": [
      "\u001b[0;31m---------------------------------------------------------------------------\u001b[0m",
      "\u001b[0;31mNameError\u001b[0m                                 Traceback (most recent call last)",
      "\u001b[0;32m<ipython-input-5-f0eab6337052>\u001b[0m in \u001b[0;36m<module>\u001b[0;34m\u001b[0m\n\u001b[0;32m----> 1\u001b[0;31m \u001b[0mcreate_database\u001b[0m\u001b[0;34m(\u001b[0m\u001b[0muse_db_settings\u001b[0m\u001b[0;34m)\u001b[0m\u001b[0;34m\u001b[0m\u001b[0;34m\u001b[0m\u001b[0m\n\u001b[0m\u001b[1;32m      2\u001b[0m \u001b[0;34m\u001b[0m\u001b[0m\n\u001b[1;32m      3\u001b[0m create_tables(use_db_settings,\n\u001b[1;32m      4\u001b[0m               \u001b[0;34m'boe_diary_section'\u001b[0m\u001b[0;34m,\u001b[0m\u001b[0;34m\u001b[0m\u001b[0;34m\u001b[0m\u001b[0m\n\u001b[1;32m      5\u001b[0m               \u001b[0mboe_diary_section_table\u001b[0m\u001b[0;34m,\u001b[0m\u001b[0;34m\u001b[0m\u001b[0;34m\u001b[0m\u001b[0m\n",
      "\u001b[0;31mNameError\u001b[0m: name 'create_database' is not defined"
     ]
    }
   ],
   "source": [
    "use_db_settings(create_database)\n",
    "\n",
    "create_tables(use_db_settings,\n",
    "              'boe_diary_section',\n",
    "              boe_diary_section_table,\n",
    "              'boe_diary_entry',\n",
    "              boe_diary_entry_table,\n",
    "              'boe_diary_label',\n",
    "              boe_diary_label_table,\n",
    "              'boe_diary_entry_references',\n",
    "              boe_diary_entry_references_table)\n",
    "\n",
    "insert_sections(use_db_settings, boe_sections)"
   ]
  },
  {
   "cell_type": "code",
   "execution_count": 23,
   "metadata": {},
   "outputs": [],
   "source": [
    "create_tables(use_db_settings,\n",
    "              'boe_diary_entry_label',\n",
    "              boe_diary_entry_label_table,)"
   ]
  }
 ],
 "metadata": {
  "kernelspec": {
   "display_name": "venv",
   "language": "python",
   "name": "venv"
  },
  "language_info": {
   "codemirror_mode": {
    "name": "ipython",
    "version": 3
   },
   "file_extension": ".py",
   "mimetype": "text/x-python",
   "name": "python",
   "nbconvert_exporter": "python",
   "pygments_lexer": "ipython3",
   "version": "3.6.9"
  }
 },
 "nbformat": 4,
 "nbformat_minor": 2
}
