{
 "cells": [
  {
   "cell_type": "markdown",
   "id": "uniform-gospel",
   "metadata": {},
   "source": [
    "# BOExplorer\n",
    "### Sumary fetch and diary entries extraction\n",
    "\n",
    "#### 1. Imports"
   ]
  },
  {
   "cell_type": "code",
   "execution_count": 1,
   "id": "assumed-hardwood",
   "metadata": {},
   "outputs": [],
   "source": [
    "import inspect\n",
    "import functools\n",
    "import datetime\n",
    "\n",
    "from helpers import boe\n",
    "from helpers import helpers\n",
    "from helpers import boe_diary_processing as diary"
   ]
  },
  {
   "cell_type": "markdown",
   "id": "greater-arrival",
   "metadata": {},
   "source": [
    "#### 2. Helper functions"
   ]
  },
  {
   "cell_type": "code",
   "execution_count": 2,
   "id": "elementary-swift",
   "metadata": {},
   "outputs": [],
   "source": [
    "db_host = 'localhost'\n",
    "db_database = 'boe'\n",
    "db_user = 'root'\n",
    "db_password = 'pass'\n",
    "\n",
    "def with_db_settings(f):\n",
    "    def f(*args, **kwargs):\n",
    "        keyword_args = dict(kwargs)\n",
    "        keyword_args.update({\n",
    "            'host': db_host,\n",
    "            'database': db_database,\n",
    "            'user': db_user,\n",
    "            'password': db_password\n",
    "        })\n",
    "        f(*args, keyword_args)\n",
    "    return f\n",
    "\n",
    "def get_entries_for_date(date:datetime.datetime):\n",
    "    items = helpers.pipe(\n",
    "        date,\n",
    "        boe.summary_url_for_date,\n",
    "        helpers.fetch_page,\n",
    "        helpers.tree_from_response,\n",
    "        diary.get_sections,\n",
    "        diary.get_departments_per_section,\n",
    "        diary.get_items_per_department,\n",
    "        diary.get_details_per_item,\n",
    "        tuple\n",
    "    )\n",
    "\n",
    "    return items"
   ]
  },
  {
   "cell_type": "markdown",
   "id": "human-assault",
   "metadata": {},
   "source": [
    "#### 3. Imported processing functions\n",
    "\n",
    "! All processing functions in the `helpers/boe_diary_processing.py` module start with 'get'."
   ]
  },
  {
   "cell_type": "code",
   "execution_count": 3,
   "id": "meaningful-parade",
   "metadata": {
    "scrolled": false
   },
   "outputs": [
    {
     "name": "stdout",
     "output_type": "stream",
     "text": [
      "def get_departments_per_section(sections) -> Generator:\n",
      "    departments = (\n",
      "        (section_number, department.get(boe.SummaryAttribute.department_name), department)\n",
      "        for (section_number, section)\n",
      "        in sections\n",
      "        for department\n",
      "        in helpers.use_tree_for_search(section)(boe.SummaryXpath.department))\n",
      "    \n",
      "    return departments\n",
      "\n",
      "def get_details_per_item(items) -> Generator:\n",
      "    details = (get_item_details(*item) for item in items)\n",
      "    \n",
      "    return details\n",
      "\n",
      "def get_item_details(section_number:str, department_name:str, node) -> Dict:\n",
      "    search_details = helpers.use_tree_for_search(node)\n",
      "    title_node = search_details(boe.SummaryXpath.item_title)[0]\n",
      "    pdf_url_node = search_details(boe.SummaryXpath.item_pdf_url)[0]\n",
      "    xml_url_node = search_details(boe.SummaryXpath.item_xml_url)[0]\n",
      "    htm_url_node = search_details(boe.SummaryXpath.item_htm_url)[0]\n",
      "    \n",
      "    parent = node.getparent()\n",
      "    is_epigraph = parent.tag.lower() == 'epigrafe'\n",
      "    epigraph = parent = parent.get(boe.SummaryAttribute.epigraph_name) if is_epigraph else ''\n",
      "    \n",
      "    details = {}\n",
      "    details['id'] = node.get(boe.SummaryAttribute.item_id)\n",
      "    details['epigraph'] = epigraph\n",
      "    details['section'] = section_number\n",
      "    details['department'] = department_name\n",
      "    details['title'] = title_node.text\n",
      "    details['pdf_url'] = pdf_url_node.text\n",
      "    details['xml_url'] = xml_url_node.text\n",
      "    details['htm_url'] = htm_url_node.text\n",
      "    \n",
      "    return details\n",
      "\n",
      "def get_items_per_department(departments) -> Generator:\n",
      "    items = ((section_number, department_name, item)\n",
      "        for (section_number, department_name, department)\n",
      "        in departments\n",
      "        for item\n",
      "        in helpers.use_tree_for_search(department)(boe.SummaryXpath.items))\n",
      "    \n",
      "    return items\n",
      "\n",
      "def get_sections(tree) -> Generator:\n",
      "    sections = (\n",
      "        (section.get(boe.SummaryAttribute.section_number), section)\n",
      "        for section\n",
      "        in helpers.use_tree_for_search(tree)(boe.SummaryXpath.section))\n",
      "    \n",
      "    return sections\n",
      "\n"
     ]
    }
   ],
   "source": [
    "helpers.pipe(\n",
    "    dir(diary),\n",
    "    functools.partial(filter, lambda x: x.startswith('get_')),\n",
    "    helpers.partialmap(lambda x: diary.__dict__[x]),\n",
    "    helpers.partialmap(inspect.getsource),\n",
    "    '\\n'.join,\n",
    "    print\n",
    ")"
   ]
  },
  {
   "cell_type": "markdown",
   "id": "soviet-snapshot",
   "metadata": {},
   "source": [
    "#### 4. Execution"
   ]
  },
  {
   "cell_type": "code",
   "execution_count": 4,
   "id": "senior-surge",
   "metadata": {},
   "outputs": [
    {
     "data": {
      "text/plain": [
       "{'id': 'BOE-A-2021-1345',\n",
       " 'epigraph': 'Tabaco. Precios',\n",
       " 'section': '1',\n",
       " 'department': 'MINISTERIO DE HACIENDA',\n",
       " 'title': 'Resolución de 29 de enero de 2021, de la Presidencia del Comisionado para el Mercado de Tabacos, por la que se publican los precios de venta al público de determinadas labores de tabaco en Expendedurías de Tabaco y Timbre del área de Península y Baleares.',\n",
       " 'pdf_url': '/boe/dias/2021/01/30/pdfs/BOE-A-2021-1345.pdf',\n",
       " 'xml_url': '/diario_boe/xml.php?id=BOE-A-2021-1345',\n",
       " 'htm_url': '/diario_boe/txt.php?id=BOE-A-2021-1345'}"
      ]
     },
     "execution_count": 4,
     "metadata": {},
     "output_type": "execute_result"
    }
   ],
   "source": [
    "date = datetime.datetime(2021, 1, 30)\n",
    "entries = get_entries_for_date(date)\n",
    "entries[0]"
   ]
  }
 ],
 "metadata": {
  "kernelspec": {
   "display_name": "Python 3",
   "language": "python",
   "name": "python3"
  },
  "language_info": {
   "codemirror_mode": {
    "name": "ipython",
    "version": 3
   },
   "file_extension": ".py",
   "mimetype": "text/x-python",
   "name": "python",
   "nbconvert_exporter": "python",
   "pygments_lexer": "ipython3",
   "version": "3.8.5"
  }
 },
 "nbformat": 4,
 "nbformat_minor": 5
}
