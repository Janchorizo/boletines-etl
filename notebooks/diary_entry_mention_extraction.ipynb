{
 "cells": [
  {
   "cell_type": "code",
   "execution_count": 1,
   "metadata": {},
   "outputs": [],
   "source": [
    "from typing import Callable, Set, Generator, Iterable, Dict, List\n",
    "import datetime\n",
    "import collections\n",
    "\n",
    "import pymysql\n",
    "import functools\n",
    "from lxml import etree as et\n",
    "import httplib2\n",
    "from tqdm import tqdm\n",
    "\n",
    "import helpers\n",
    "import boe"
   ]
  },
  {
   "cell_type": "code",
   "execution_count": 2,
   "metadata": {},
   "outputs": [],
   "source": [
    "db_host = 'localhost'\n",
    "db_database = 'boe'\n",
    "db_user = 'root'\n",
    "db_password = 'pass'\n",
    "\n",
    "use_db_settings = lambda func, *args: func(db_host, db_user, db_password, db_database, *args)"
   ]
  },
  {
   "cell_type": "markdown",
   "metadata": {},
   "source": [
    "# BOE entry mentions extractions\n",
    "\n",
    "## Helper functions"
   ]
  },
  {
   "cell_type": "code",
   "execution_count": 3,
   "metadata": {},
   "outputs": [],
   "source": [
    "def retrieve_entries(db_host: str, \n",
    "                     db_user: str, \n",
    "                     db_password: str, \n",
    "                     db_database: str, \n",
    "                     day: datetime.datetime) -> Iterable[Dict]:\n",
    "    '''Retrieve entries for a specific day.'''\n",
    "    \n",
    "    connection = pymysql.connect(host=db_host,\n",
    "                                 user=db_user,\n",
    "                                 password=db_password,\n",
    "                                 db=db_database)\n",
    "\n",
    "    with connection:\n",
    "        cursor = connection.cursor(pymysql.cursors.DictCursor)\n",
    "        cursor.execute(f\"SELECT * FROM boe_diary_entry WHERE date = '{day.isoformat()}';\")\n",
    "        entries = cursor.fetchall()\n",
    "    \n",
    "    return entries\n",
    "\n",
    "def get_labels_from_tree(tree):\n",
    "    tree_search = helpers.use_tree_for_search(tree)\n",
    "    topics = tree_search(boe.EntryXpath.topics)\n",
    "    alerts = tree_search(boe.EntryXpath.alerts)\n",
    "    \n",
    "    labels = helpers.pipe(topics + alerts,\n",
    "        functools.partial(map, lambda x: x.xpath('text()')),\n",
    "        functools.partial(map, ''.join),\n",
    "        set)\n",
    "    return labels\n",
    "\n",
    "def get_tree(item):\n",
    "    response = helpers.fetch_page('https://www.boe.es' + items[0].get('xml_url'))\n",
    "    tree = helpers.tree_from_response(response)\n",
    "    \n",
    "    return tree\n",
    "\n",
    "def labels_insert_queries(entry_id: str, labels: Iterable[str]) -> List[str]:\n",
    "    def single_insert_query(entry_id: str, label: str) -> str:\n",
    "        return f'''INSERT INTO boe_diary_entry_label (entry, name)\n",
    "            VALUES ('{entry_id}', '{label}')\n",
    "        '''\n",
    "    \n",
    "    queries = map(functools.partial(single_insert_query, entry_id), labels)\n",
    "    return queries\n",
    "\n",
    "def insert_labels(use_db_settings: Callable, entry_id: str, labels: Iterable[str]):\n",
    "    if len(labels) == 0:\n",
    "        return\n",
    "    \n",
    "    connection = use_db_settings(pymysql.connect)\n",
    "\n",
    "    with connection:\n",
    "        cursor = connection.cursor()\n",
    "        \n",
    "        for query in labels_insert_queries(entry_id, labels):\n",
    "            cursor.execute(query)"
   ]
  },
  {
   "cell_type": "markdown",
   "metadata": {},
   "source": [
    "## Execution"
   ]
  },
  {
   "cell_type": "code",
   "execution_count": 6,
   "metadata": {},
   "outputs": [
    {
     "name": "stderr",
     "output_type": "stream",
     "text": [
      "0it [00:00, ?it/s]\n"
     ]
    }
   ],
   "source": [
    "DATE = datetime.datetime(2020, 4, 28)\n",
    "\n",
    "items = use_db_settings(retrieve_entries, DATE)\n",
    "\n",
    "for item in tqdm(items):\n",
    "    tree = get_tree(item)\n",
    "    labels = get_labels_from_tree(tree)\n",
    "    insert_labels(use_db_settings, item.get('id'), labels)"
   ]
  },
  {
   "cell_type": "code",
   "execution_count": 5,
   "metadata": {},
   "outputs": [
    {
     "name": "stdout",
     "output_type": "stream",
     "text": [
      "Resolución de 22 de abril de 2020, del Congreso de los Diputados, por la que se ordena la publicación del Acuerdo de autorización de la prórroga del estado de alarma declarado por el Real Decreto 463/2020, de 14 de marzo.\n",
      "{'Derecho Constitucional', 'Estado de alarma', 'Enfermedades', 'Epidemias', 'Sanidad'}\n",
      "Orden INT/368/2020, de 24 de abril, por la que se prorrogan los controles en las fronteras interiores terrestres restablecidos con motivo de la situación de crisis sanitaria ocasionada por el COVID-19.\n",
      "{'Derecho Constitucional', 'Estado de alarma', 'Enfermedades', 'Epidemias', 'Sanidad'}\n",
      "Orden INT/369/2020, de 24 de abril, por la que se adoptan medidas excepcionales en materia de formación permanente de los vigilantes de seguridad y vigencia de las tarjetas de identidad profesional del personal de seguridad privada.\n",
      "{'Derecho Constitucional', 'Estado de alarma', 'Enfermedades', 'Epidemias', 'Sanidad'}\n",
      "Resolución de 23 de abril de 2020, de la Secretaría General de Industria y de la Pequeña y Mediana Empresa, referente a los equipos de protección individual en el contexto de la crisis sanitaria ocasionada por el COVID-19.\n",
      "{'Derecho Constitucional', 'Estado de alarma', 'Enfermedades', 'Epidemias', 'Sanidad'}\n",
      "Real Decreto 492/2020, de 24 de abril, por el que se prorroga el estado de alarma declarado por el Real Decreto 463/2020, de 14 de marzo, por el que se declara el estado de alarma para la gestión de la situación de crisis sanitaria ocasionada por el COVID-19.\n",
      "{'Derecho Constitucional', 'Estado de alarma', 'Enfermedades', 'Epidemias', 'Sanidad'}\n",
      "Acuerdo de 12 de diciembre de 2019, de la Comisión Permanente del Consejo General del Poder Judicial, por el que se declara la jubilación forzosa del Magistrado don Benedicto Cea Ayala.\n",
      "{'Derecho Constitucional', 'Estado de alarma', 'Enfermedades', 'Epidemias', 'Sanidad'}\n",
      "Resolución 430/38109/2020, de 25 de marzo, de la Subsecretaría, por la que se resuelve la convocatoria de libre designación, efectuada por Resolución 430/38015/2020, de 22 de enero.\n",
      "{'Derecho Constitucional', 'Estado de alarma', 'Enfermedades', 'Epidemias', 'Sanidad'}\n",
      "Resolución de 31 de marzo de 2020, de la Secretaría de Estado de Derechos Sociales, por la que se publica la modificación del Reglamento Regulador de los productos de la modalidad de lotería denominada \"Juego Activo de la ONCE\" y se da publicidad a la finalización e implantación de varios productos de dicha modalidad.\n",
      "{'Derecho Constitucional', 'Estado de alarma', 'Enfermedades', 'Epidemias', 'Sanidad'}\n",
      "Resolución de 31 de marzo de 2020, de la Secretaría de Estado de Derechos Sociales, por la que se publica la modificación del Reglamento regulador de la modalidad de lotería denominada \"Lotería Instantánea de Boletos de la ONCE\" y se da publicidad a la implantación, lanzamiento, finalización y cancelación de varios productos de dicha modalidad.\n",
      "{'Derecho Constitucional', 'Estado de alarma', 'Enfermedades', 'Epidemias', 'Sanidad'}\n",
      "Resolución de 7 de abril de 2020, de la Secretaría de Estado de Derechos Sociales, por la que se publica la modificación del Reglamento regulador de la modalidad de lotería denominada \"Lotería Instantánea de Boletos de la ONCE\" y se da publicidad a la implantación, lanzamiento y finalización de varios productos de dicha modalidad.\n",
      "{'Derecho Constitucional', 'Estado de alarma', 'Enfermedades', 'Epidemias', 'Sanidad'}\n",
      "Resolución de 30 de octubre de 2019, del Instituto Nacional de Investigación y Tecnología Agraria y Alimentaria O.A. M.P., por la que se publica el Convenio con la Universidad Politécnica de Madrid, el Centro de Investigaciones Energéticas, Medioambientales y Tecnológicas, O.A., M.P., y la Universidad Autónoma de Madrid, para regular las condiciones para la distribución presupuestaria de los fondos concedidos para la realización del Programa de actividades de I+D \"Tecnología destinada a la sostenibilidad de los sistemas agrícolas\", convocatoria de ayudas para la realización de programas de actividades de I + D entre grupos de investigación de la Comunidad de Madrid en Tecnologías 2018.\n",
      "{'Derecho Constitucional', 'Estado de alarma', 'Enfermedades', 'Epidemias', 'Sanidad'}\n",
      "Resolución de 1 de abril de 2020, de la Secretaría General Técnica, por la que se publica el Convenio entre la Dirección Provincial de la Tesorería General de la Seguridad Social de La Rioja y la Dirección Provincial del Instituto Nacional de la Seguridad Social de La Rioja, para la administración y participación en gastos de inmuebles de uso compartido.\n",
      "{'Derecho Constitucional', 'Estado de alarma', 'Enfermedades', 'Epidemias', 'Sanidad'}\n",
      "Resolución de 1 de abril de 2020, de la Secretaría General Técnica, por la que se publica el Convenio entre la Dirección Provincial de la Tesorería General de la Seguridad Social de Lugo y la Dirección Provincial del Instituto Nacional de la Seguridad Social de Lugo, para la administración y participación en gastos de inmuebles de uso compartido.\n",
      "{'Derecho Constitucional', 'Estado de alarma', 'Enfermedades', 'Epidemias', 'Sanidad'}\n",
      "Resolución de 6 de abril de 2020, de la Secretaría General Técnica, por la que se publica el Convenio entre la Dirección Provincial de la Tesorería General de la Seguridad Social de Palencia y la Dirección Provincial del Instituto Nacional de la Seguridad Social de Palencia, para la administración y participación en gastos de inmuebles de uso compartido.\n",
      "{'Derecho Constitucional', 'Estado de alarma', 'Enfermedades', 'Epidemias', 'Sanidad'}\n",
      "Resolución de 7 de abril de 2020, del Instituto Nacional de la Seguridad Social, por la que se publica el catálogo de organismos, entidades y empresas incluidos en el Registro de Prestaciones Sociales Públicas.\n",
      "{'Derecho Constitucional', 'Estado de alarma', 'Enfermedades', 'Epidemias', 'Sanidad'}\n",
      "Resolución de 24 de abril de 2020, del Banco de España, por la que se publican los cambios del euro correspondientes al día 24 de abril de 2020, publicados por el Banco Central Europeo, que tendrán la consideración de cambios oficiales, de acuerdo con lo dispuesto en el artículo 36 de la Ley 46/1998, de 17 de diciembre, sobre la Introducción del Euro.\n",
      "{'Derecho Constitucional', 'Estado de alarma', 'Enfermedades', 'Epidemias', 'Sanidad'}\n",
      "Corrección de errores de la Resolución CLT/426/2020, de 29 de enero, por la que se incoa expediente de delimitación del entorno de protección del Teatre Principal, en Olot (Garrotxa), y se abre un periodo de información pública.\n",
      "{'Derecho Constitucional', 'Estado de alarma', 'Enfermedades', 'Epidemias', 'Sanidad'}\n",
      "Orden SND/370/2020, de 25 de abril, sobre las condiciones en las que deben desarrollarse los desplazamientos por parte de la población infantil durante la situación de crisis sanitaria ocasionada por el COVID-19.\n",
      "{'Derecho Constitucional', 'Estado de alarma', 'Enfermedades', 'Epidemias', 'Sanidad'}\n",
      "PALMA DE MALLORCA\n",
      "{'Derecho Constitucional', 'Estado de alarma', 'Enfermedades', 'Epidemias', 'Sanidad'}\n",
      "PALMA DE MALLORCA\n",
      "{'Derecho Constitucional', 'Estado de alarma', 'Enfermedades', 'Epidemias', 'Sanidad'}\n",
      "VALENCIA\n",
      "{'Derecho Constitucional', 'Estado de alarma', 'Enfermedades', 'Epidemias', 'Sanidad'}\n",
      "Anuncio de formalización de contratos de: Director de Abastecimiento y Transportes de la Jefatura de Apoyo Logístico de la Armada. Objeto: Acuerdo Marco para suministro de repuestos de módulos de los sistemas Indra operativos en distintas plataformas navales. Expediente: 3504019032400.\n",
      "{'Derecho Constitucional', 'Estado de alarma', 'Enfermedades', 'Epidemias', 'Sanidad'}\n",
      "Anuncio de formalización de contratos de: Jefatura de la Sección Económico-Administrativa 41 - Base Aérea de San Javier. Objeto: Suministro de pan y bollería fresca, desde la firma del contrato hasta el 31 de octubre 2020, para la SEINT de la Academia General del Aire. Expediente: 2020/EA41/00000188.\n",
      "{'Derecho Constitucional', 'Estado de alarma', 'Enfermedades', 'Epidemias', 'Sanidad'}\n",
      "Anuncio de formalización de contratos de: Jefatura de Asuntos Económicos del Mando de Personal. Objeto: Explotación Servicio Restauración Bares y Cafetería del CDSCM \"La Deportiva\" en Burgos. Expediente: 2093319022000.\n",
      "{'Derecho Constitucional', 'Estado de alarma', 'Enfermedades', 'Epidemias', 'Sanidad'}\n"
     ]
    },
    {
     "name": "stdout",
     "output_type": "stream",
     "text": [
      "Resolución de la Delegación de Economía y Hacienda en Illes Balears por la que se acuerda el aplazamiento de la subasta pública de bienes muebles convocada para el 28 de mayo de 2020.\n",
      "{'Derecho Constitucional', 'Estado de alarma', 'Enfermedades', 'Epidemias', 'Sanidad'}\n",
      "Anuncio de formalización de contratos de: Delegación Especial de la Agencia Tributaria en Andalucía, Ceuta y Melilla. Objeto: Servicio de limpieza integral de los edificios y centros dependientes de la Delegación de la AEAT de Melilla. Expediente: 20560000600.\n",
      "{'Derecho Constitucional', 'Estado de alarma', 'Enfermedades', 'Epidemias', 'Sanidad'}\n",
      "Anuncio de formalización de contratos de: Dirección del Servicio de Gestión Económica de la Agencia Estatal de la Administración Tributaria. Objeto: Arrendamiento de la plataforma de detección y prevención de intrusiones de la sede electrónica de la Agencia Estatal de Administración Tributaria. Expediente: 20840022500.\n",
      "{'Derecho Constitucional', 'Estado de alarma', 'Enfermedades', 'Epidemias', 'Sanidad'}\n",
      "Anuncio de formalización de contratos de: Subdirección General de Servicios Penitenciarios. Objeto: Servicio de vigilancia del edificio sede de los Servicios Centrales y dependencias del Centro de Estudios Penitenciarios de la Secretaría General de Instituciones Penitenciarias. Expediente: 020020190083.\n",
      "{'Derecho Constitucional', 'Estado de alarma', 'Enfermedades', 'Epidemias', 'Sanidad'}\n",
      "Anuncio de formalización de contratos de: Instituto Nacional de Estadística INE. Objeto: Adquisición por tramitación de emergencia de 250 teclados bluetooth con touchpad integrado con funda y atril compatibles con tabletas ipad de 10,2\" para preparar equipos para teletrabajar, debido a la reorganización del trabajo por la crisis del COVID-19. Expediente: 2020N0074040.\n",
      "{'Derecho Constitucional', 'Estado de alarma', 'Enfermedades', 'Epidemias', 'Sanidad'}\n",
      "Anuncio de formalización de contratos de: Presidencia de la Agencia Estatal Consejo Superior de Investigaciones Científicas, M.P. Objeto: Suministro de PCR digital en gotas (ddPCR). Expediente: 219/20.\n",
      "{'Derecho Constitucional', 'Estado de alarma', 'Enfermedades', 'Epidemias', 'Sanidad'}\n",
      "Anuncio de licitación de: Subdirección de Compras de la Sociedad Estatal Correos y Telégrafos S.A. Objeto: Adquisición por la Sociedad Estatal Correos y Telégrafos, S.A.S.M.E. (Correos), de 4.750.000 mascarillas autofiltrantes para el Grupo Correos, constituido por las siguientes sociedades: Sociedad Estatal Correos y Telégrafos, S. A. S. M. E., Nexea Gestión Documental, S. A. S. M. E (Nexea), Correos Telecom, S. A. S. M. E (Correos Telecom), Correos Express Paquetería Urgente, S. A. S. M. E. (Correos Express), y Correos Express Portugal (en adelante todas ellas denominadas conjuntamente \"Grupo Correos\"), para hacer frente inmediato a la protección de sus trabajadores como consecuencia del COVID 19. Expediente: VE200003.\n",
      "{'Derecho Constitucional', 'Estado de alarma', 'Enfermedades', 'Epidemias', 'Sanidad'}\n",
      "Anuncio de Metro de Madrid, S.A., de excepción a la suspensión del plazo de presentación de ofertas y establecimiento de nueva fecha de vencimiento de la licitación para la contratación de un servicio de mantenimiento del alumbrado y fuerza en túnel de vía principal y salidas de emergencia (expediente 6012000090).\n",
      "{'Derecho Constitucional', 'Estado de alarma', 'Enfermedades', 'Epidemias', 'Sanidad'}\n",
      "Anuncio de Metro de Madrid, S.A., de excepción a la suspensión del plazo de presentación de ofertas y establecimiento de nueva fecha de vencimiento de la licitación para la contratación de un servicio de revisiones modulares y limpieza de fosos en escaleras mecánicas mantenidas por Metro de Madrid (expediente 6012000093).\n",
      "{'Derecho Constitucional', 'Estado de alarma', 'Enfermedades', 'Epidemias', 'Sanidad'}\n",
      "Anuncio de la Autoridad Portuaria de Las Palmas sobre la aceptación del desistimiento de la entidad ODIEL TOWAGE, S.L., a la 2.ª solicitud de Licencia para la prestación del servicio portuario de remolque de buques de una potencia superior a 1.000 hp, en el Puerto de Las Palmas.\n",
      "{'Derecho Constitucional', 'Estado de alarma', 'Enfermedades', 'Epidemias', 'Sanidad'}\n",
      "BANKIA BONOS 24 MESES, F.I. (FONDO ABSORBENTE) BANKIA RENTA FIJA 18 MESES, F.I. (FONDO ABSORBIDO)\n",
      "{'Derecho Constitucional', 'Estado de alarma', 'Enfermedades', 'Epidemias', 'Sanidad'}\n"
     ]
    }
   ],
   "source": [
    "for item in items:\n",
    "    tree = get_tree(item)\n",
    "    labels = get_labels_from_tree(tree)\n",
    "    print(item.get('title'))\n",
    "    print(labels)"
   ]
  }
 ],
 "metadata": {
  "kernelspec": {
   "display_name": "venv",
   "language": "python",
   "name": "venv"
  },
  "language_info": {
   "codemirror_mode": {
    "name": "ipython",
    "version": 3
   },
   "file_extension": ".py",
   "mimetype": "text/x-python",
   "name": "python",
   "nbconvert_exporter": "python",
   "pygments_lexer": "ipython3",
   "version": "3.6.9"
  }
 },
 "nbformat": 4,
 "nbformat_minor": 2
}
