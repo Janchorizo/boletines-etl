{
 "cells": [
  {
   "cell_type": "code",
   "execution_count": 1,
   "metadata": {},
   "outputs": [],
   "source": [
    "from typing import Callable, Set, Generator, Iterable\n",
    "import datetime\n",
    "import collections\n",
    "import pymysql\n",
    "import functools\n",
    "from lxml import etree as et\n",
    "import httplib2\n",
    "\n",
    "import helpers\n",
    "import boe"
   ]
  },
  {
   "cell_type": "code",
   "execution_count": 2,
   "metadata": {},
   "outputs": [],
   "source": [
    "db_host = 'localhost'\n",
    "db_database = 'boe'\n",
    "db_user = 'root'\n",
    "db_password = 'pass'\n",
    "\n",
    "use_db_settings = lambda func, *args: func(db_host, db_user, db_password, db_database, *args)"
   ]
  },
  {
   "cell_type": "markdown",
   "metadata": {},
   "source": [
    "# Boe summary entry extraction"
   ]
  },
  {
   "cell_type": "markdown",
   "metadata": {},
   "source": [
    "## Processing of the diary\n",
    "\n",
    "```\n",
    "sumario/\n",
    "  meta/\n",
    "   |pub\n",
    "   |fecha\n",
    "   |fechaAnt\n",
    "   |fechaSig\n",
    "  sumario/\n",
    "   |diario/\n",
    "   |  sumario_nbo/\n",
    "   |   |urlPdf\n",
    "   |  seccion[1, 2, 2A, 2B, 3, 4, 5, 5A, 5B, 5C, T]/\n",
    "   |   |departamento[1..*]/\n",
    "   |   |  epigrafe[1..*]/\n",
    "   |   |    epigrafeType/ item[1..*]\n",
    "   |   |  item[1..*]/\n",
    "   |   |    itemType/ titulo, urlPdf, urlHtm, urlXml, suplemento\n",
    "        \n",
    "```"
   ]
  },
  {
   "cell_type": "code",
   "execution_count": 3,
   "metadata": {},
   "outputs": [],
   "source": [
    "def get_sections(tree) -> Generator:\n",
    "    sections = ((section.get(boe.SummaryAttribute.section_number), section)\n",
    "            for section\n",
    "            in helpers.use_tree_for_search(tree)(boe.SummaryXpath.section))\n",
    "    \n",
    "    return sections\n",
    "\n",
    "def get_departments_per_section(sections) -> Generator:\n",
    "    departments = (\n",
    "            (section_number, department.get(boe.SummaryAttribute.department_name), department)\n",
    "            for (section_number, section)\n",
    "            in sections\n",
    "            for department\n",
    "            in helpers.use_tree_for_search(section)(boe.SummaryXpath.department))\n",
    "    \n",
    "    return departments\n",
    "\n",
    "def get_items_per_department(departments) -> Generator:\n",
    "    items = ((section_number, department_name, item)\n",
    "        for (section_number, department_name, department)\n",
    "        in departments\n",
    "        for item\n",
    "        in helpers.use_tree_for_search(department)(boe.SummaryXpath.items))\n",
    "    \n",
    "    return items\n",
    "\n",
    "def get_item_details(section_number:str, department_name:str, node)->Set:    \n",
    "    search_details = helpers.use_tree_for_search(node)\n",
    "    title_node = search_details(boe.SummaryXpath.item_title)[0]\n",
    "    pdf_url_node = search_details(boe.SummaryXpath.item_pdf_url)[0]\n",
    "    xml_url_node = search_details(boe.SummaryXpath.item_xml_url)[0]\n",
    "    htm_url_node = search_details(boe.SummaryXpath.item_htm_url)[0]\n",
    "    \n",
    "    parent = node.getparent()\n",
    "    is_epigraph = parent.tag.lower() == 'epigrafe'\n",
    "    epigraph = parent = parent.get(boe.SummaryAttribute.epigraph_name) if is_epigraph else ''\n",
    "    \n",
    "    details = {}\n",
    "    details['id'] = node.get(boe.SummaryAttribute.item_id)\n",
    "    details['epigraph'] = epigraph\n",
    "    details['section'] = section_number\n",
    "    details['department'] = department_name\n",
    "    details['title'] = title_node.text\n",
    "    details['pdf_url'] = pdf_url_node.text\n",
    "    details['xml_url'] = xml_url_node.text\n",
    "    details['htm_url'] = htm_url_node.text\n",
    "    \n",
    "    return details\n",
    "\n",
    "def get_details_per_item(items) -> Generator:\n",
    "    details = (get_item_details(*item) for item in items)\n",
    "    \n",
    "    return details"
   ]
  },
  {
   "cell_type": "markdown",
   "metadata": {},
   "source": [
    "## Inserting into the db"
   ]
  },
  {
   "cell_type": "code",
   "execution_count": 4,
   "metadata": {},
   "outputs": [],
   "source": [
    "def boe_diary_entry_query(item):\n",
    "    return f\"\"\"\n",
    "        INSERT INTO boe_diary_entry\n",
    "        (id, date, title, section, department, epigraph, pdf_url, xml_url, htm_url)\n",
    "        VALUES ('{item.get('id')}', '{DATE.isoformat()}', '{item.get('title')}', \n",
    "                '{item.get('section')}', '{item.get('department')}', '{item.get('epigraph')}',\n",
    "                '{item.get('pdf_url')}', '{item.get('xml_url')}', '{item.get('htm_url')}');\n",
    "    \"\"\"\n",
    "    \n",
    "def insert_items(db_host, db_user, db_password, db_database, items):\n",
    "    connection = pymysql.connect(host=db_host,\n",
    "                                 user=db_user,\n",
    "                                 password=db_password,\n",
    "                                 db=db_database)\n",
    "\n",
    "    with connection:\n",
    "        cursor = connection.cursor()\n",
    "        for entry in items:\n",
    "            cursor.execute(boe_diary_entry_query(entry))"
   ]
  },
  {
   "cell_type": "markdown",
   "metadata": {},
   "source": [
    "## Execution"
   ]
  },
  {
   "cell_type": "code",
   "execution_count": 5,
   "metadata": {},
   "outputs": [
    {
     "data": {
      "text/plain": [
       "{'id': 'BOE-A-2020-4689',\n",
       " 'epigraph': 'Estado de alarma. Servicios esenciales',\n",
       " 'section': '1',\n",
       " 'department': 'MINISTERIO DE SANIDAD',\n",
       " 'title': 'Resolución de 24 de abril de 2020, de la Secretaría General de Sanidad, por la que se modifica el Anexo de la Orden SND/310/2020, de 31 de marzo, por la que se establecen como servicios esenciales determinados centros, servicios y establecimientos sanitarios.',\n",
       " 'pdf_url': '/boe/dias/2020/04/28/pdfs/BOE-A-2020-4689.pdf',\n",
       " 'xml_url': '/diario_boe/xml.php?id=BOE-A-2020-4689',\n",
       " 'htm_url': '/diario_boe/txt.php?id=BOE-A-2020-4689'}"
      ]
     },
     "execution_count": 5,
     "metadata": {},
     "output_type": "execute_result"
    }
   ],
   "source": [
    "DATE = datetime.datetime(2020, 4, 28)\n",
    "response = helpers.fetch_page(boe.summary_url_for_date(DATE))\n",
    "tree = helpers.tree_from_response(response)\n",
    "items = list(helpers.pipe(tree,\n",
    "        get_sections,\n",
    "        get_departments_per_section,\n",
    "        get_items_per_department,\n",
    "        get_details_per_item))\n",
    "use_db_settings(insert_items, items)\n",
    "\n",
    "items[0]"
   ]
  },
  {
   "cell_type": "code",
   "execution_count": 6,
   "metadata": {},
   "outputs": [
    {
     "data": {
      "text/plain": [
       "()"
      ]
     },
     "execution_count": 6,
     "metadata": {},
     "output_type": "execute_result"
    }
   ],
   "source": [
    "helpers.pipe(items,\n",
    "    functools.partial(map, lambda d: d.get('title')),\n",
    "    functools.partial(map, lambda d: (len(d), d)),\n",
    "    functools.partial(filter, lambda d: d[0] > 600),\n",
    "    tuple)"
   ]
  }
 ],
 "metadata": {
  "kernelspec": {
   "display_name": "venv",
   "language": "python",
   "name": "venv"
  },
  "language_info": {
   "codemirror_mode": {
    "name": "ipython",
    "version": 3
   },
   "file_extension": ".py",
   "mimetype": "text/x-python",
   "name": "python",
   "nbconvert_exporter": "python",
   "pygments_lexer": "ipython3",
   "version": "3.6.9"
  }
 },
 "nbformat": 4,
 "nbformat_minor": 2
}
