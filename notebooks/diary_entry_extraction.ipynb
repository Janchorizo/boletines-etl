{
 "cells": [
  {
   "cell_type": "code",
   "execution_count": 1,
   "metadata": {},
   "outputs": [],
   "source": [
    "from typing import Callable, Set, Generator, Iterable\n",
    "import datetime\n",
    "import collections\n",
    "\n",
    "import pymysql\n",
    "import functools\n",
    "from lxml import etree as et\n",
    "import httplib2"
   ]
  },
  {
   "cell_type": "code",
   "execution_count": 72,
   "metadata": {},
   "outputs": [],
   "source": [
    "def pipe(initial_value: any, *args:Callable) -> any:\n",
    "    '''Chaining functions in order of execution.'''\n",
    "    \n",
    "    chain_function = lambda prev_result, func: func(prev_result)\n",
    "    \n",
    "    return functools.reduce(chain_function, args, initial_value)"
   ]
  },
  {
   "cell_type": "code",
   "execution_count": 2,
   "metadata": {},
   "outputs": [],
   "source": [
    "db_host = 'localhost'\n",
    "db_database = 'boe'\n",
    "db_user = 'root'\n",
    "db_password = 'pass'"
   ]
  },
  {
   "cell_type": "markdown",
   "metadata": {},
   "source": [
    "# Boe dashboard exploration\n",
    "\n",
    "### Functionality to be provided\n",
    "\n",
    "1. Fetch of the weeks' diary\n",
    "2. Analysis of the diary\n",
    "3. Create dependency tree\n",
    "4. Search for key-concept summarization of the diary"
   ]
  },
  {
   "cell_type": "markdown",
   "metadata": {},
   "source": [
    "## Feching from the BOE API"
   ]
  },
  {
   "cell_type": "code",
   "execution_count": 5,
   "metadata": {},
   "outputs": [],
   "source": [
    "Response = collections.namedtuple('Response', 'headers content')\n",
    "\n",
    "def summary_url_for_date(date: datetime.datetime)->str:\n",
    "    ''' Create an URL for fetching the correspondant BOE summary.\n",
    "    Refer to https://www.boe.es/datosabiertos/documentos/SumariosBOE_v_1_0.pdf\n",
    "    '''\n",
    "    \n",
    "    pub = 'BOE'\n",
    "    I = 'S'\n",
    "    date_string = date.strftime('%Y%m%d')\n",
    "    \n",
    "    return f'https://boe.es/diario_boe/xml.php?id={pub}-{I}-{date_string}'\n",
    "\n",
    "def fetch_page(url: str, max_tries=3)->Response:\n",
    "    '''Try to fetch a given url up to max_tries times.'''\n",
    "    \n",
    "    h = httplib2.Http(\".cache\")\n",
    "    \n",
    "    for _ in range(max_tries):\n",
    "        response = Response(*h.request(url, \"GET\"))\n",
    "        if response.headers.get('status') == '200':\n",
    "            break\n",
    "    \n",
    "    return response"
   ]
  },
  {
   "cell_type": "markdown",
   "metadata": {},
   "source": [
    "## Processing of the diary\n",
    "\n",
    "```\n",
    "sumario/\n",
    "  meta/\n",
    "   |pub\n",
    "   |fecha\n",
    "   |fechaAnt\n",
    "   |fechaSig\n",
    "  sumario/\n",
    "   |diario/\n",
    "   |  sumario_nbo/\n",
    "   |   |urlPdf\n",
    "   |  seccion[1, 2, 2A, 2B, 3, 4, 5, 5A, 5B, 5C, T]/\n",
    "   |   |departamento[1..*]/\n",
    "   |   |  epigrafe[1..*]/\n",
    "   |   |    epigrafeType/ item[1..*]\n",
    "   |   |  item[1..*]/\n",
    "   |   |    itemType/ titulo, urlPdf, urlHtm, urlXml, suplemento\n",
    "        \n",
    "```"
   ]
  },
  {
   "cell_type": "code",
   "execution_count": 9,
   "metadata": {},
   "outputs": [],
   "source": [
    "def print_reponse_content(response: Response)->None:\n",
    "    print(response.content.decode('utf-8'))\n",
    "    \n",
    "def tree_from_response(response: Response)->et._Element:\n",
    "    '''Create lxml.etree._Element from an XML document content.'''\n",
    "    \n",
    "    return et.fromstring(response.content)\n",
    "\n",
    "def use_tree_for_search(tree)->Callable:\n",
    "    '''Return a function xpath:str->List for performing \n",
    "    xpath-based search over the provided lxml tree.'''\n",
    "    \n",
    "    namespaces = dict(xmlns=\"http://www.w3.org/1999/xhtml\")\n",
    "    return lambda xpath: tree.xpath(xpath, namespaces=namespaces)\n",
    "\n",
    "def use_xpath_for_search(xpath)->Callable:\n",
    "    '''Return a function tree:str->List for performing \n",
    "    the provided xpath-based search over the tree.'''\n",
    "    \n",
    "    namespaces = dict(xmlns=\"http://www.w3.org/1999/xhtml\")\n",
    "    return lambda tree: tree.xpath(xpath, namespaces=namespaces)"
   ]
  },
  {
   "cell_type": "code",
   "execution_count": 12,
   "metadata": {},
   "outputs": [],
   "source": [
    "class BOExpath:\n",
    "    # Accessible from the diary's root\n",
    "    publication_type = '/sumario/meta/pub'\n",
    "    publication_date = '/sumario/meta/fecha'\n",
    "    prev_publication_date = '/sumario/meta/fechaAnt'\n",
    "    next_publication_date = '/sumario/meta/fechaSig'\n",
    "    \n",
    "    sumary = '/sumario/diario/sumario_nbo'\n",
    "    section = '/sumario/diario/seccion'\n",
    "    \n",
    "    # Accessible for a section\n",
    "    department = './departamento'\n",
    "    \n",
    "    # Accessible for a department\n",
    "    epigraf = './epigrafe'\n",
    "    items = './/item'\n",
    "    \n",
    "    # Accessible for an itemType node\n",
    "    item_title = './titulo'\n",
    "    item_pdf_url = './urlPdf'\n",
    "    item_htm_url = './urlHtm'\n",
    "    item_xml_url = './urlXml'\n",
    "    \n",
    "class BOEattributes:\n",
    "    diary_nbo = 'nbo'\n",
    "    summary_nbo_id = 'id'\n",
    "    section_number = 'num'\n",
    "    section_name = 'nombre'\n",
    "    department_name = 'nombre'\n",
    "    epigraph_name = 'nombre'\n",
    "    item_id = 'id'\n",
    "    pdf_url_sz_bytes = 'szBytes'\n",
    "    pdf_url_sz_kbytes = 'szKBytes'\n",
    "    item_control = 'control'"
   ]
  },
  {
   "cell_type": "code",
   "execution_count": 13,
   "metadata": {},
   "outputs": [],
   "source": [
    "def get_sections(tree) -> Generator:\n",
    "    sections = ((section.get(BOEattributes.section_number), section)\n",
    "            for section\n",
    "            in use_tree_for_search(tree)(BOExpath.section))\n",
    "    \n",
    "    return sections\n",
    "\n",
    "def get_departments_per_section(sections) -> Generator:\n",
    "    departments = (\n",
    "            (section_number, department.get(BOEattributes.department_name), department)\n",
    "            for (section_number, section)\n",
    "            in sections\n",
    "            for department\n",
    "            in use_tree_for_search(section)(BOExpath.department))\n",
    "    \n",
    "    return departments\n",
    "\n",
    "def get_items_per_department(departments) -> Generator:\n",
    "    items = ((section_number, department_name, item)\n",
    "        for (section_number, department_name, department)\n",
    "        in departments\n",
    "        for item\n",
    "        in use_tree_for_search(department)(BOExpath.items))\n",
    "    \n",
    "    return items\n",
    "\n",
    "def get_item_details(section_number:str, department_name:str, node)->Set:    \n",
    "    search_details = use_tree_for_search(node)\n",
    "    title_node = search_details(BOExpath.item_title)[0]\n",
    "    pdf_url_node = search_details(BOExpath.item_pdf_url)[0]\n",
    "    xml_url_node = search_details(BOExpath.item_xml_url)[0]\n",
    "    htm_url_node = search_details(BOExpath.item_htm_url)[0]\n",
    "    \n",
    "    parent = node.getparent()\n",
    "    is_epigraph = parent.tag.lower() == 'epigrafe'\n",
    "    epigraph = parent = parent.get(BOEattributes.epigraph_name) if is_epigraph else ''\n",
    "    \n",
    "    details = {}\n",
    "    details['id'] = node.get(BOEattributes.item_id)\n",
    "    details['epigraph'] = epigraph\n",
    "    details['section'] = section_number\n",
    "    details['department'] = department_name\n",
    "    details['title'] = title_node.text\n",
    "    details['pdf_url'] = pdf_url_node.text\n",
    "    details['xml_url'] = xml_url_node.text\n",
    "    details['htm_url'] = htm_url_node.text\n",
    "    \n",
    "    return details\n",
    "\n",
    "def get_details_per_item(items) -> Generator:\n",
    "    details = (get_item_details(*item) for item in items)\n",
    "    \n",
    "    return details"
   ]
  },
  {
   "cell_type": "markdown",
   "metadata": {},
   "source": [
    "## Inserting into the db"
   ]
  },
  {
   "cell_type": "code",
   "execution_count": 40,
   "metadata": {},
   "outputs": [],
   "source": [
    "def boe_diary_entry_query(item):\n",
    "    return f\"\"\"\n",
    "        INSERT INTO boe_diary_entry\n",
    "        (id, date, title, section, department, epigraph, pdf_url, xml_url, htm_url)\n",
    "        VALUES ('{item.get('id')}', '{DATE.isoformat()}', '{item.get('title')}', \n",
    "                '{item.get('section')}', '{item.get('department')}', '{item.get('epigraph')}',\n",
    "                '{item.get('pdf_url')}', '{item.get('xml_url')}', '{item.get('htm_url')}');\n",
    "    \"\"\"\n",
    "    \n",
    "def insert_items(db_host, db_user, db_password, db_database, items):\n",
    "    connection = pymysql.connect(host=db_host,\n",
    "                                 user=db_user,\n",
    "                                 password=db_password,\n",
    "                                 db=db_database)\n",
    "\n",
    "    with connection:\n",
    "        cursor = connection.cursor()\n",
    "        for entry in items:\n",
    "            cursor.execute(boe_diary_entry_query(entry))"
   ]
  },
  {
   "cell_type": "markdown",
   "metadata": {},
   "source": [
    "## Execution"
   ]
  },
  {
   "cell_type": "code",
   "execution_count": 21,
   "metadata": {},
   "outputs": [],
   "source": [
    "DATE = datetime.datetime(2020, 4, 25)\n",
    "response = fetch_page(summary_url_for_date(DATE))\n",
    "tree = tree_from_response(response)\n",
    "items = list(pipe(tree,\n",
    "        get_sections,\n",
    "        get_departments_per_section,\n",
    "        get_items_per_department,\n",
    "        get_details_per_item))\n",
    "insert_items(db_host, db_user, db_password, db_database, items)\n",
    "\n",
    "items[0]"
   ]
  },
  {
   "cell_type": "code",
   "execution_count": 71,
   "metadata": {},
   "outputs": [
    {
     "data": {
      "text/plain": [
       "((694,\n",
       "  'Resolución de 30 de octubre de 2019, del Instituto Nacional de Investigación y Tecnología Agraria y Alimentaria O.A. M.P., por la que se publica el Convenio con la Universidad Politécnica de Madrid, el Centro de Investigaciones Energéticas, Medioambientales y Tecnológicas, O.A., M.P., y la Universidad Autónoma de Madrid, para regular las condiciones para la distribución presupuestaria de los fondos concedidos para la realización del Programa de actividades de I+D \"Tecnología destinada a la sostenibilidad de los sistemas agrícolas\", convocatoria de ayudas para la realización de programas de actividades de I + D entre grupos de investigación de la Comunidad de Madrid en Tecnologías 2018.'),\n",
       " (730,\n",
       "  'Anuncio de licitación de: Subdirección de Compras de la Sociedad Estatal Correos y Telégrafos S.A. Objeto: Adquisición por la Sociedad Estatal Correos y Telégrafos, S.A.S.M.E. (Correos), de 4.750.000 mascarillas autofiltrantes para el Grupo Correos, constituido por las siguientes sociedades: Sociedad Estatal Correos y Telégrafos, S. A. S. M. E., Nexea Gestión Documental, S. A. S. M. E (Nexea), Correos Telecom, S. A. S. M. E (Correos Telecom), Correos Express Paquetería Urgente, S. A. S. M. E. (Correos Express), y Correos Express Portugal (en adelante todas ellas denominadas conjuntamente \"Grupo Correos\"), para hacer frente inmediato a la protección de sus trabajadores como consecuencia del COVID 19. Expediente: VE200003.'))"
      ]
     },
     "execution_count": 71,
     "metadata": {},
     "output_type": "execute_result"
    }
   ],
   "source": [
    "pipe(items,\n",
    "    functools.partial(map, lambda d: d.get('title')),\n",
    "    functools.partial(map, lambda d: (len(d), d)),\n",
    "    functools.partial(filter, lambda d: d[0] > 600),\n",
    "    tuple)"
   ]
  }
 ],
 "metadata": {
  "kernelspec": {
   "display_name": "venv",
   "language": "python",
   "name": "venv"
  },
  "language_info": {
   "codemirror_mode": {
    "name": "ipython",
    "version": 3
   },
   "file_extension": ".py",
   "mimetype": "text/x-python",
   "name": "python",
   "nbconvert_exporter": "python",
   "pygments_lexer": "ipython3",
   "version": "3.6.9"
  }
 },
 "nbformat": 4,
 "nbformat_minor": 2
}
