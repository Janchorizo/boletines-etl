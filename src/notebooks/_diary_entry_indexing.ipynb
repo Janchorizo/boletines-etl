{
 "cells": [
  {
   "cell_type": "code",
   "execution_count": 27,
   "metadata": {},
   "outputs": [],
   "source": [
    "from typing import Callable, Set, Generator, Iterable, Dict\n",
    "import datetime\n",
    "import collections\n",
    "\n",
    "import pymysql\n",
    "import functools\n",
    "from lxml import etree as et\n",
    "import httplib2\n",
    "\n",
    "import helpers\n",
    "import boe"
   ]
  },
  {
   "cell_type": "code",
   "execution_count": 21,
   "metadata": {},
   "outputs": [],
   "source": [
    "db_host = 'localhost'\n",
    "db_database = 'boe'\n",
    "db_user = 'root'\n",
    "db_password = 'pass'\n",
    "\n",
    "use_db_settings = lambda func, *args: func(db_host, db_user, db_password, db_database, *args)"
   ]
  },
  {
   "cell_type": "markdown",
   "metadata": {},
   "source": [
    "# BOE entry indexing\n",
    "\n",
    "1. Retrieve entries for a specific date\n",
    "2. Get body contents for each entry\n",
    "3. Title and body contents processing (tokenization, lemmatization, empty words removal, etc)\n",
    "4. Indexing of each entry"
   ]
  },
  {
   "cell_type": "markdown",
   "metadata": {},
   "source": [
    "## Helper functions"
   ]
  },
  {
   "cell_type": "code",
   "execution_count": 35,
   "metadata": {},
   "outputs": [],
   "source": [
    "def retrieve_entries(use_db_settings: Callable, day: datetime.datetime) -> Iterable[Dict]:\n",
    "    '''Retrieve entries for a specific day.'''\n",
    "    \n",
    "    connection = use_db_settings(pymysql.connect)\n",
    "    \n",
    "    with connection:\n",
    "        cursor = connection.cursor(pymysql.cursors.DictCursor)\n",
    "        cursor.execute(f\"SELECT * FROM boe_diary_entry WHERE date = '{day.isoformat()}';\")\n",
    "        entries = cursor.fetchall()\n",
    "    \n",
    "    return entries\n",
    "\n",
    "def get_contents(item):\n",
    "    response = helpers.fetch_page('https://www.boe.es' + items[0].get('xml_url'))\n",
    "    tree = helpers.tree_from_response(response)\n",
    "    body = helpers.use_tree_for_search(tree)(boe.DisposalXpath.body)\n",
    "    body_contents = text_from_disposal_body(body)\n",
    "    \n",
    "    return body_contents"
   ]
  },
  {
   "cell_type": "markdown",
   "metadata": {},
   "source": [
    "## Execution\n",
    "\n",
    "1. Retrieve entries for a specific date"
   ]
  },
  {
   "cell_type": "code",
   "execution_count": 24,
   "metadata": {},
   "outputs": [],
   "source": [
    "DATE = datetime.datetime(2020, 4, 25)\n",
    "\n",
    "items = use_db_settings(retrieve_entries, DATE)"
   ]
  },
  {
   "cell_type": "code",
   "execution_count": 17,
   "metadata": {},
   "outputs": [
    {
     "data": {
      "text/plain": [
       "'Resolución de 22 de abril de 2020, del Congreso de los Diputados, por la que se ordena la publicación del Acuerdo de autorización de la prórroga del estado de alarma declarado por el Real Decreto 463/2020, de 14 de marzo.'"
      ]
     },
     "execution_count": 17,
     "metadata": {},
     "output_type": "execute_result"
    }
   ],
   "source": []
  },
  {
   "cell_type": "markdown",
   "metadata": {},
   "source": [
    "2. Get body contents for each entry"
   ]
  },
  {
   "cell_type": "markdown",
   "metadata": {},
   "source": [
    "3. Title and body contents processing (tokenization, lemmatization, empty words removal, etc)"
   ]
  },
  {
   "cell_type": "markdown",
   "metadata": {},
   "source": [
    "4. Indexing of each entry"
   ]
  },
  {
   "cell_type": "code",
   "execution_count": 33,
   "metadata": {},
   "outputs": [
    {
     "ename": "NameError",
     "evalue": "name 'httplib2' is not defined",
     "output_type": "error",
     "traceback": [
      "\u001b[0;31m---------------------------------------------------------------------------\u001b[0m",
      "\u001b[0;31mNameError\u001b[0m                                 Traceback (most recent call last)",
      "\u001b[0;32m<ipython-input-33-ea295f9f7151>\u001b[0m in \u001b[0;36m<module>\u001b[0;34m\u001b[0m\n\u001b[0;32m----> 1\u001b[0;31m \u001b[0mresponse\u001b[0m \u001b[0;34m=\u001b[0m \u001b[0mhelpers\u001b[0m\u001b[0;34m.\u001b[0m\u001b[0mfetch_page\u001b[0m\u001b[0;34m(\u001b[0m\u001b[0;34m'https://www.boe.es'\u001b[0m \u001b[0;34m+\u001b[0m \u001b[0mitems\u001b[0m\u001b[0;34m[\u001b[0m\u001b[0;36m0\u001b[0m\u001b[0;34m]\u001b[0m\u001b[0;34m.\u001b[0m\u001b[0mget\u001b[0m\u001b[0;34m(\u001b[0m\u001b[0;34m'xml_url'\u001b[0m\u001b[0;34m)\u001b[0m\u001b[0;34m)\u001b[0m\u001b[0;34m\u001b[0m\u001b[0;34m\u001b[0m\u001b[0m\n\u001b[0m",
      "\u001b[0;32m~/projects/boeDashboard/notebooks/helpers.py\u001b[0m in \u001b[0;36mfetch_page\u001b[0;34m(url, max_tries)\u001b[0m\n\u001b[1;32m     16\u001b[0m \u001b[0;32mdef\u001b[0m \u001b[0mfetch_page\u001b[0m\u001b[0;34m(\u001b[0m\u001b[0murl\u001b[0m\u001b[0;34m:\u001b[0m \u001b[0mstr\u001b[0m\u001b[0;34m,\u001b[0m \u001b[0mmax_tries\u001b[0m\u001b[0;34m=\u001b[0m\u001b[0;36m3\u001b[0m\u001b[0;34m)\u001b[0m\u001b[0;34m->\u001b[0m\u001b[0mResponse\u001b[0m\u001b[0;34m:\u001b[0m\u001b[0;34m\u001b[0m\u001b[0;34m\u001b[0m\u001b[0m\n\u001b[1;32m     17\u001b[0m     \u001b[0;34m'''Try to fetch a given url up to max_tries times.'''\u001b[0m\u001b[0;34m\u001b[0m\u001b[0;34m\u001b[0m\u001b[0m\n\u001b[0;32m---> 18\u001b[0;31m \u001b[0;34m\u001b[0m\u001b[0m\n\u001b[0m\u001b[1;32m     19\u001b[0m     \u001b[0mh\u001b[0m \u001b[0;34m=\u001b[0m \u001b[0mhttplib2\u001b[0m\u001b[0;34m.\u001b[0m\u001b[0mHttp\u001b[0m\u001b[0;34m(\u001b[0m\u001b[0;34m\".cache\"\u001b[0m\u001b[0;34m)\u001b[0m\u001b[0;34m\u001b[0m\u001b[0;34m\u001b[0m\u001b[0m\n\u001b[1;32m     20\u001b[0m \u001b[0;34m\u001b[0m\u001b[0m\n",
      "\u001b[0;31mNameError\u001b[0m: name 'httplib2' is not defined"
     ]
    }
   ],
   "source": [
    "response = helpers.fetch_page('https://www.boe.es' + items[0].get('xml_url'))"
   ]
  },
  {
   "cell_type": "code",
   "execution_count": 16,
   "metadata": {
    "scrolled": false
   },
   "outputs": [
    {
     "name": "stdout",
     "output_type": "stream",
     "text": [
      "<?xml version=\"1.0\" encoding=\"UTF-8\"?>\n",
      "<documento fecha_actualizacion=\"20200427102602\">\n",
      "  <metadatos>\n",
      "    <identificador>BOE-A-2020-4648</identificador>\n",
      "    <titulo>Resolución de 22 de abril de 2020, del Congreso de los Diputados, por la que se ordena la publicación del Acuerdo de autorización de la prórroga del estado de alarma declarado por el Real Decreto 463/2020, de 14 de marzo.</titulo>\n",
      "    <diario codigo=\"BOE\">Boletín Oficial del Estado</diario>\n",
      "    <diario_numero>115</diario_numero>\n",
      "    <seccion>1</seccion>\n",
      "    <subseccion/>\n",
      "    <departamento codigo=\"1220\">Cortes Generales</departamento>\n",
      "    <rango codigo=\"1370\">Resolución</rango>\n",
      "    <numero_oficial/>\n",
      "    <fecha_disposicion>20200422</fecha_disposicion>\n",
      "    <fecha_publicacion>20200425</fecha_publicacion>\n",
      "    <fecha_vigencia>20200422</fecha_vigencia>\n",
      "    <fecha_derogacion/>\n",
      "    <letra_imagen>A</letra_imagen>\n",
      "    <pagina_inicial>30276</pagina_inicial>\n",
      "    <pagina_final>30277</pagina_final>\n",
      "    <suplemento_letra_imagen/>\n",
      "    <suplemento_pagina_inicial/>\n",
      "    <suplemento_pagina_final/>\n",
      "    <estatus_legislativo>L</estatus_legislativo>\n",
      "    <origen_legislativo codigo=\"1\">Estatal</origen_legislativo>\n",
      "    <estado_consolidacion codigo=\"3\">Finalizado</estado_consolidacion>\n",
      "    <judicialmente_anulada>N</judicialmente_anulada>\n",
      "    <vigencia_agotada>N</vigencia_agotada>\n",
      "    <estatus_derogacion>N</estatus_derogacion>\n",
      "    <url_epub>/diario_boe/epub.php?id=BOE-A-2020-4648</url_epub>\n",
      "    <url_pdf>/boe/dias/2020/04/25/pdfs/BOE-A-2020-4648.pdf</url_pdf>\n",
      "    <url_pdf_catalan/>\n",
      "    <url_pdf_euskera/>\n",
      "    <url_pdf_gallego/>\n",
      "    <url_pdf_valenciano/>\n",
      "    <url_eli>https://www.boe.es/eli/es/res/2020/04/22/(4)</url_eli>\n",
      "  </metadatos>\n",
      "  <metadata-eli>\n",
      "    <rdf:RDF xmlns:rdf=\"http://www.w3.org/1999/02/22-rdf-syntax-ns#\" xmlns:eli=\"http://data.europa.eu/eli/ontology#\">\n",
      "      <eli:LegalResource rdf:about=\"https://www.boe.es/eli/es/res/2020/04/22/(4)\">\n",
      "        <eli:jurisdiction rdf:resource=\"http://www.elidata.es/mdr/authority/jurisdiction/1/es\"/>\n",
      "        <eli:type_document rdf:resource=\"http://www.elidata.es/mdr/authority/resource-type/1/res\"/>\n",
      "        <eli:id_local rdf:datatype=\"http://www.w3.org/2001/XMLSchema#string\">BOE-A-2020-4648</eli:id_local>\n",
      "        <eli:date_document rdf:datatype=\"http://www.w3.org/2001/XMLSchema#date\">2020-04-22</eli:date_document>\n",
      "        <eli:number rdf:datatype=\"http://www.w3.org/2001/XMLSchema#string\">(4)</eli:number>\n",
      "        <eli:has_member>\n",
      "          <eli:LegalResource rdf:about=\"https://www.boe.es/eli/es/res/2020/04/22/(4)/dof\">\n",
      "            <eli:jurisdiction rdf:resource=\"http://www.elidata.es/mdr/authority/jurisdiction/1/es\"/>\n",
      "            <eli:type_document rdf:resource=\"http://www.elidata.es/mdr/authority/resource-type/1/res\"/>\n",
      "            <eli:id_local rdf:datatype=\"http://www.w3.org/2001/XMLSchema#string\">BOE-A-2020-4648</eli:id_local>\n",
      "            <eli:date_document rdf:datatype=\"http://www.w3.org/2001/XMLSchema#date\">2020-04-22</eli:date_document>\n",
      "            <eli:number rdf:datatype=\"http://www.w3.org/2001/XMLSchema#string\">(4)</eli:number>\n",
      "            <eli:version rdf:resource=\"http://www.elidata.es/mdr/authority/version/dof\"/>\n",
      "            <eli:is_member_of rdf:resource=\"https://www.boe.es/eli/es/res/2020/04/22/(4)\"/>\n",
      "            <eli:consolidated_by rdf:resource=\"https://www.boe.es/eli/es/res/2020/04/22/(4)/con/20200425\"/>\n",
      "            <eli:is_realized_by>\n",
      "              <eli:LegalExpression rdf:about=\"https://www.boe.es/eli/es/res/2020/04/22/(4)/dof/spa\">\n",
      "                <eli:language rdf:resource=\"http://www.elidata.es/mdr/authority/language/spa\"/>\n",
      "                <eli:title rdf:datatype=\"http://www.w3.org/2001/XMLSchema#string\">Resolución de 22 de abril de 2020, del Congreso de los Diputados, por la que se ordena la publicación del Acuerdo de autorización de la prórroga del estado de alarma declarado por el Real Decreto 463/2020, de 14 de marzo.</eli:title>\n",
      "                <eli:publisher rdf:resource=\"www.boe.es\"/>\n",
      "                <eli:date_publication rdf:datatype=\"http://www.w3.org/2001/XMLSchema#date\">2020-04-25</eli:date_publication>\n",
      "                <eli:realizes rdf:resource=\"https://www.boe.es/eli/es/res/2020/04/22/(4)/dof\"/>\n",
      "                <eli:is_embodied_by>\n",
      "                  <eli:Format rdf:about=\"https://www.boe.es/eli/es/res/2020/04/22/(4)/dof/spa/epub\">\n",
      "                    <eli:format rdf:resource=\"http://www.iana.org/assignments/media-types/application/epub+zip\"/>\n",
      "                    <eli:embodies rdf:resource=\"https://www.boe.es/eli/es/res/2020/04/22/(4)/dof/spa\"/>\n",
      "                  </eli:Format>\n",
      "                </eli:is_embodied_by>\n",
      "                <eli:is_embodied_by>\n",
      "                  <eli:Format rdf:about=\"https://www.boe.es/eli/es/res/2020/04/22/(4)/dof/spa/html\">\n",
      "                    <eli:format rdf:resource=\"http://www.iana.org/assignments/media-types/text/html\"/>\n",
      "                    <eli:embodies rdf:resource=\"https://www.boe.es/eli/es/res/2020/04/22/(4)/dof/spa\"/>\n",
      "                  </eli:Format>\n",
      "                </eli:is_embodied_by>\n",
      "                <eli:is_embodied_by>\n",
      "                  <eli:Format rdf:about=\"https://www.boe.es/eli/es/res/2020/04/22/(4)/dof/spa/pdf\">\n",
      "                    <eli:format rdf:resource=\"http://www.iana.org/assignments/media-types/application/pdf\"/>\n",
      "                    <eli:embodies rdf:resource=\"https://www.boe.es/eli/es/res/2020/04/22/(4)/dof/spa\"/>\n",
      "                  </eli:Format>\n",
      "                </eli:is_embodied_by>\n",
      "                <eli:is_embodied_by>\n",
      "                  <eli:Format rdf:about=\"https://www.boe.es/eli/es/res/2020/04/22/(4)/dof/spa/xml\">\n",
      "                    <eli:format rdf:resource=\"http://www.iana.org/assignments/media-types/application/xml\"/>\n",
      "                    <eli:embodies rdf:resource=\"https://www.boe.es/eli/es/res/2020/04/22/(4)/dof/spa\"/>\n",
      "                  </eli:Format>\n",
      "                </eli:is_embodied_by>\n",
      "              </eli:LegalExpression>\n",
      "            </eli:is_realized_by>\n",
      "          </eli:LegalResource>\n",
      "        </eli:has_member>\n",
      "        <eli:has_member>\n",
      "          <eli:LegalResource rdf:about=\"https://www.boe.es/eli/es/res/2020/04/22/(4)/con/20200425\">\n",
      "            <eli:jurisdiction rdf:resource=\"http://www.elidata.es/mdr/authority/jurisdiction/1/es\"/>\n",
      "            <eli:type_document rdf:resource=\"http://www.elidata.es/mdr/authority/resource-type/1/res\"/>\n",
      "            <eli:id_local rdf:datatype=\"http://www.w3.org/2001/XMLSchema#string\">BOE-A-2020-4648</eli:id_local>\n",
      "            <eli:date_document rdf:datatype=\"http://www.w3.org/2001/XMLSchema#date\">2020-04-22</eli:date_document>\n",
      "            <eli:number rdf:datatype=\"http://www.w3.org/2001/XMLSchema#string\">(4)</eli:number>\n",
      "            <eli:version rdf:resource=\"http://www.elidata.es/mdr/authority/version/con\"/>\n",
      "            <eli:version_date rdf:datatype=\"http://www.w3.org/2001/XMLSchema#date\">2020-04-25</eli:version_date>\n",
      "            <eli:is_member_of rdf:resource=\"https://www.boe.es/eli/es/res/2020/04/22/(4)\"/>\n",
      "            <eli:consolidates rdf:resource=\"https://www.boe.es/eli/es/res/2020/04/22/(4)/dof\"/>\n",
      "            <eli:is_realized_by>\n",
      "              <eli:LegalExpression rdf:about=\"https://www.boe.es/eli/es/res/2020/04/22/(4)/con/20200425/spa\">\n",
      "                <eli:language rdf:resource=\"http://www.elidata.es/mdr/authority/language/spa\"/>\n",
      "                <eli:title rdf:datatype=\"http://www.w3.org/2001/XMLSchema#string\">Resolución de 22 de abril de 2020, del Congreso de los Diputados, por la que se ordena la publicación del Acuerdo de autorización de la prórroga del estado de alarma declarado por el Real Decreto 463/2020, de 14 de marzo.</eli:title>\n",
      "                <eli:publisher rdf:resource=\"www.boe.es\"/>\n",
      "                <eli:date_publication rdf:datatype=\"http://www.w3.org/2001/XMLSchema#date\">2020-04-25</eli:date_publication>\n",
      "                <eli:realizes rdf:resource=\"https://www.boe.es/eli/es/res/2020/04/22/(4)/con/20200425\"/>\n",
      "                <eli:is_embodied_by>\n",
      "                  <eli:Format rdf:about=\"https://www.boe.es/eli/es/res/2020/04/22/(4)/con/20200425/spa/html\">\n",
      "                    <eli:format rdf:resource=\"http://www.iana.org/assignments/media-types/text/html\"/>\n",
      "                    <eli:embodies rdf:resource=\"https://www.boe.es/eli/es/res/2020/04/22/(4)/con/20200425/spa\"/>\n",
      "                  </eli:Format>\n",
      "                </eli:is_embodied_by>\n",
      "              </eli:LegalExpression>\n",
      "            </eli:is_realized_by>\n",
      "          </eli:LegalResource>\n",
      "        </eli:has_member>\n",
      "      </eli:LegalResource>\n",
      "    </rdf:RDF>\n",
      "  </metadata-eli>\n",
      "  <analisis>\n",
      "    <notas/>\n",
      "    <materias>\n",
      "      <materia codigo=\"3193\" orden=\"\">Enfermedades</materia>\n",
      "      <materia codigo=\"3247\" orden=\"\">Epidemias</materia>\n",
      "      <materia codigo=\"3458\" orden=\"\">Estado de alarma</materia>\n",
      "      <materia codigo=\"6278\" orden=\"\">Sanidad</materia>\n",
      "    </materias>\n",
      "    <alertas>\n",
      "      <alerta codigo=\"111\" orden=\"\">Derecho Constitucional</alerta>\n",
      "      <alerta codigo=\"124\" orden=\"\">Sanidad</alerta>\n",
      "    </alertas>\n",
      "    <referencias>\n",
      "      <anteriores>\n",
      "        <anterior referencia=\"BOE-A-2020-3692\" orden=\"4130\">\n",
      "          <palabra codigo=\"421\">AUTORIZA</palabra>\n",
      "          <texto>, en los términos indicados, la prórroga del Real Decreto 463/2020, de 14 de marzo</texto>\n",
      "        </anterior>\n",
      "      </anteriores>\n",
      "      <posteriores/>\n",
      "    </referencias>\n",
      "  </analisis>\n",
      "  <texto>\n",
      "    <p class=\"parrafo\">De conformidad con lo dispuesto en el artículo 116.2 de la Constitución, el Congreso de los Diputados, en su sesión del día de hoy, acordó autorizar la prórroga del estado de alarma declarado por el Real Decreto 463/2020, de 14 de marzo, en los términos de la solicitud comunicada mediante Acuerdo del Consejo de Ministros, de 21 de abril de 2020, cuyo tenor es el siguiente:</p>\n",
      "    <p class=\"articulo\">«Primero.</p>\n",
      "    <p class=\"parrafo\">Solicitar del Congreso de los Diputados autorización para prorrogar el estado de alarma declarado por el Real Decreto 463/2020, de 14 de marzo, por el que se declara el estado de alarma para la gestión de la situación de crisis sanitaria ocasionada por el COVID-19.</p>\n",
      "    <p class=\"articulo\">Segundo.</p>\n",
      "    <p class=\"parrafo\">La prórroga se extenderá desde las 00:00 horas del día 26 de abril de 2020 hasta las 00:00 horas del día 10 de mayo de 2020.</p>\n",
      "    <p class=\"articulo\">Tercero.</p>\n",
      "    <p class=\"parrafo\">La prórroga se someterá a las condiciones establecidas en el Real Decreto 463/2020, de 14 de marzo, salvo lo dispuesto en sus artículos 7 y 10.6, que se sujetarán, respectivamente, a lo establecido por los apartados cuarto y quinto de este acuerdo.</p>\n",
      "    <p class=\"articulo\">Cuarto.</p>\n",
      "    <p class=\"parrafo\">Las limitaciones aplicables a la libre circulación de las personas serán las siguientes:</p>\n",
      "    <p class=\"parrafo_2\">1. Durante el periodo contemplado en el apartado segundo de este acuerdo, las personas únicamente podrán circular por las vías o espacios de uso público para la realización de las siguientes actividades, que deberán realizarse individualmente, salvo que se acompañe a personas con discapacidad, menores, mayores, o por otra causa justificada:</p>\n",
      "    <p class=\"parrafo_2\">a) Adquisición de alimentos, productos farmacéuticos y de primera necesidad, así como adquisición de otros productos y prestación de servicios de acuerdo con lo establecido en el artículo 10 del Real Decreto 463/2020, de 14 de marzo.</p>\n",
      "    <p class=\"parrafo\">b) Asistencia a centros, servicios y establecimientos sanitarios.</p>\n",
      "    <p class=\"parrafo\">c) Desplazamiento al lugar de trabajo para efectuar su prestación laboral, profesional o empresarial.</p>\n",
      "    <p class=\"parrafo\">d) Retorno al lugar de residencia habitual.</p>\n",
      "    <p class=\"parrafo\">e) Asistencia y cuidado a mayores, menores, dependientes, personas con discapacidad o personas especialmente vulnerables.</p>\n",
      "    <p class=\"parrafo\">f) Desplazamiento a entidades financieras y de seguros.</p>\n",
      "    <p class=\"parrafo\">g) Por causa de fuerza mayor o situación de necesidad.</p>\n",
      "    <p class=\"parrafo\">h) Cualquier otra actividad de análoga naturaleza.</p>\n",
      "    <p class=\"parrafo_2\">2. Los menores de 14 años podrán acompañar a un adulto responsable de su cuidado cuando este realice alguna o algunas de las actividades previstas en el apartado anterior.</p>\n",
      "    <p class=\"parrafo\">3. Igualmente, se permitirá la circulación de vehículos particulares por las vías de uso público para la realización de las actividades referidas en los apartados anteriores o para el repostaje en gasolineras o estaciones de servicio.</p>\n",
      "    <p class=\"parrafo\">4. En todo caso, en cualquier desplazamiento deberán respetarse las recomendaciones y obligaciones dictadas por las autoridades sanitarias.</p>\n",
      "    <p class=\"parrafo\">5. El Ministro del Interior podrá acordar el cierre a la circulación de carreteras o tramos de ellas por razones de salud pública, seguridad o fluidez del tráfico o la restricción en ellas del acceso de determinados vehículos por los mismos motivos.</p>\n",
      "    <p class=\"parrafo\">Cuando las medidas a las que se refiere el párrafo anterior se adopten de oficio se informará previamente a las Administraciones autonómicas que ejercen competencias de ejecución de la legislación del Estado en materia de tráfico, circulación de vehículos y seguridad vial.</p>\n",
      "    <p class=\"parrafo\">Las autoridades estatales, autonómicas y locales competentes en materia de tráfico, circulación de vehículos y seguridad vial garantizarán la divulgación entre la población de las medidas que puedan afectar al tráfico rodado.</p>\n",
      "    <p class=\"parrafo\">6. El Ministro de Sanidad podrá, en atención a la evolución de la emergencia sanitaria, dictar órdenes e instrucciones en relación con las actividades y desplazamientos a que se refieren los apartados primero a cuarto de este artículo, con el alcance y ámbito territorial que en aquellas se determine.</p>\n",
      "    <p class=\"articulo\">Quinto.</p>\n",
      "    <p class=\"parrafo\">Se habilita al Ministro de Sanidad para modificar, ampliar o restringir las medidas, lugares, establecimientos y actividades enumeradas en los apartados 1 a 5 del artículo 10 del Real Decreto 463/2020, de 14 de marzo, por razones justificadas de salud pública, con el alcance y ámbito territorial que específicamente se determine.»</p>\n",
      "    <p class=\"parrafo_2\">Se ordena la publicación para general conocimiento.</p>\n",
      "    <p class=\"parrafo_2\">Palacio del Congreso de los Diputados, 22 de abril de 2020.–La Presidenta del Congreso de los Diputados, Meritxell Batet Lamaña.</p>\n",
      "  </texto>\n",
      "</documento>\n",
      "\n"
     ]
    }
   ],
   "source": [
    "tree = (response)"
   ]
  }
 ],
 "metadata": {
  "kernelspec": {
   "display_name": "venv",
   "language": "python",
   "name": "venv"
  },
  "language_info": {
   "codemirror_mode": {
    "name": "ipython",
    "version": 3
   },
   "file_extension": ".py",
   "mimetype": "text/x-python",
   "name": "python",
   "nbconvert_exporter": "python",
   "pygments_lexer": "ipython3",
   "version": "3.6.9"
  }
 },
 "nbformat": 4,
 "nbformat_minor": 2
}
